{
 "cells": [
  {
   "cell_type": "code",
   "execution_count": 24,
   "metadata": {},
   "outputs": [],
   "source": [
    "import numpy as np\n",
    "import numpy.typing as npt"
   ]
  },
  {
   "cell_type": "code",
   "execution_count": 25,
   "metadata": {},
   "outputs": [],
   "source": [
    "class PriorityQueue:\n",
    "    def __init__(self, capacity: int) -> None:\n",
    "        self.capacity: int = capacity\n",
    "        self.size: int = 0\n",
    "        self.values: npt.ArrayLike = np.empty(capacity, dtype=int)\n",
    "\n",
    "    def is_empty(self) -> bool:\n",
    "        return self.size == 0\n",
    "    \n",
    "    def is_full(self) -> bool:\n",
    "        return self.size == self.capacity\n",
    "\n",
    "    def enqueue(self, value: int) -> None:\n",
    "        if self.is_full():\n",
    "            print(\"Queue is full!\")\n",
    "            return\n",
    "        \n",
    "        if self.is_empty():\n",
    "            self.values[self.size] = value\n",
    "            self.size += 1\n",
    "        else:\n",
    "            x = self.size - 1\n",
    "            while x >= 0:\n",
    "                if value >= self.values[x]:\n",
    "                    self.values[x + 1] = self.values[x]\n",
    "                else:\n",
    "                    break\n",
    "                x -= 1\n",
    "            self.values[x + 1] = value\n",
    "            self.size += 1\n",
    "\n",
    "    def dequeue(self) -> None | int:\n",
    "        if self.is_empty():\n",
    "            print(\"Queue is empty!\")\n",
    "            return\n",
    "        \n",
    "        value = self.values[self.size - 1]\n",
    "        self.size -= 1\n",
    "        return value\n",
    "\n",
    "    def first(self) -> int:\n",
    "        if self.is_empty():\n",
    "            return -1\n",
    "        return self.values[self.size - 1]"
   ]
  },
  {
   "cell_type": "code",
   "execution_count": 26,
   "metadata": {},
   "outputs": [],
   "source": [
    "queue = PriorityQueue(5)"
   ]
  },
  {
   "cell_type": "code",
   "execution_count": 27,
   "metadata": {},
   "outputs": [
    {
     "data": {
      "text/plain": [
       "5"
      ]
     },
     "execution_count": 27,
     "metadata": {},
     "output_type": "execute_result"
    }
   ],
   "source": [
    "queue.enqueue(5)\n",
    "queue.enqueue(10)\n",
    "\n",
    "queue.first()"
   ]
  },
  {
   "cell_type": "code",
   "execution_count": 30,
   "metadata": {},
   "outputs": [
    {
     "data": {
      "text/plain": [
       "2"
      ]
     },
     "execution_count": 30,
     "metadata": {},
     "output_type": "execute_result"
    }
   ],
   "source": [
    "queue.enqueue(2)\n",
    "queue.first()"
   ]
  },
  {
   "cell_type": "code",
   "execution_count": 32,
   "metadata": {},
   "outputs": [
    {
     "data": {
      "text/plain": [
       "5"
      ]
     },
     "execution_count": 32,
     "metadata": {},
     "output_type": "execute_result"
    }
   ],
   "source": [
    "queue.dequeue()\n",
    "queue.first()"
   ]
  }
 ],
 "metadata": {
  "kernelspec": {
   "display_name": "Python 3",
   "language": "python",
   "name": "python3"
  },
  "language_info": {
   "codemirror_mode": {
    "name": "ipython",
    "version": 3
   },
   "file_extension": ".py",
   "mimetype": "text/x-python",
   "name": "python",
   "nbconvert_exporter": "python",
   "pygments_lexer": "ipython3",
   "version": "3.12.1"
  }
 },
 "nbformat": 4,
 "nbformat_minor": 2
}
