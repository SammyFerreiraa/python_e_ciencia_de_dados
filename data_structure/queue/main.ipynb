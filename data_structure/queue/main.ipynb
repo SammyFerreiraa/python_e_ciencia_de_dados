{
 "cells": [
  {
   "cell_type": "code",
   "execution_count": 5,
   "metadata": {},
   "outputs": [],
   "source": [
    "import numpy as np\n",
    "import numpy.typing as npt"
   ]
  },
  {
   "cell_type": "code",
   "execution_count": 6,
   "metadata": {},
   "outputs": [],
   "source": [
    "class CircularQueue:\n",
    "    def __init__(self, capacity: int) -> None:\n",
    "        self.capacity: int = capacity\n",
    "        self.start: int = 0\n",
    "        self.end: int = -1\n",
    "        self.size: int = 0\n",
    "        self.values: npt.ArrayLike = np.empty(capacity, dtype=int)\n",
    "    \n",
    "    def is_empty(self) -> bool:\n",
    "        return self.size == 0\n",
    "\n",
    "    def is_full(self) -> bool:\n",
    "        return self.size == self.capacity\n",
    "    \n",
    "    def enqueue(self, value: int) -> None:\n",
    "        if self.is_full():\n",
    "            print(\"Circular Queue is full!\")\n",
    "            return\n",
    "        \n",
    "        if self.end == self.capacity - 1:\n",
    "            self.end = -1\n",
    "        \n",
    "        self.end += 1\n",
    "        self.values[self.end] = value\n",
    "        self.size += 1\n",
    "    \n",
    "    def dequeue(self) -> int:\n",
    "        if self.is_empty():\n",
    "            print(\"Circular Queue is empty!\")\n",
    "            return\n",
    "        \n",
    "        temp: int = self.values[self.start]\n",
    "        self.start += 1\n",
    "\n",
    "        if self.start == self.capacity:\n",
    "            self.start = 0\n",
    "        \n",
    "        self.size -= 1\n",
    "\n",
    "        return temp\n",
    "    \n",
    "    def first(self):\n",
    "        if self.is_empty():\n",
    "            print(\"Circular Queue is empty!\")\n",
    "            return\n",
    "        return self.values[self.start]"
   ]
  },
  {
   "cell_type": "code",
   "execution_count": 7,
   "metadata": {},
   "outputs": [],
   "source": [
    "queue = CircularQueue(5)"
   ]
  },
  {
   "cell_type": "code",
   "execution_count": 8,
   "metadata": {},
   "outputs": [],
   "source": [
    "queue.enqueue(1)\n",
    "queue.enqueue(2)\n",
    "queue.enqueue(3)\n",
    "queue.enqueue(4)\n",
    "queue.enqueue(5)"
   ]
  },
  {
   "cell_type": "code",
   "execution_count": 9,
   "metadata": {},
   "outputs": [
    {
     "data": {
      "text/plain": [
       "1"
      ]
     },
     "execution_count": 9,
     "metadata": {},
     "output_type": "execute_result"
    }
   ],
   "source": [
    "queue.first()"
   ]
  },
  {
   "cell_type": "code",
   "execution_count": 10,
   "metadata": {},
   "outputs": [
    {
     "data": {
      "text/plain": [
       "1"
      ]
     },
     "execution_count": 10,
     "metadata": {},
     "output_type": "execute_result"
    }
   ],
   "source": [
    "queue.dequeue()"
   ]
  },
  {
   "cell_type": "code",
   "execution_count": 11,
   "metadata": {},
   "outputs": [
    {
     "data": {
      "text/plain": [
       "2"
      ]
     },
     "execution_count": 11,
     "metadata": {},
     "output_type": "execute_result"
    }
   ],
   "source": [
    "queue.first()"
   ]
  },
  {
   "cell_type": "code",
   "execution_count": 13,
   "metadata": {},
   "outputs": [
    {
     "name": "stdout",
     "output_type": "stream",
     "text": [
      "Circular Queue is full!\n"
     ]
    }
   ],
   "source": [
    "queue.enqueue(4)\n"
   ]
  },
  {
   "cell_type": "code",
   "execution_count": null,
   "metadata": {},
   "outputs": [],
   "source": []
  },
  {
   "cell_type": "code",
   "execution_count": null,
   "metadata": {},
   "outputs": [],
   "source": []
  }
 ],
 "metadata": {
  "kernelspec": {
   "display_name": "Python 3",
   "language": "python",
   "name": "python3"
  },
  "language_info": {
   "codemirror_mode": {
    "name": "ipython",
    "version": 3
   },
   "file_extension": ".py",
   "mimetype": "text/x-python",
   "name": "python",
   "nbconvert_exporter": "python",
   "pygments_lexer": "ipython3",
   "version": "3.12.1"
  }
 },
 "nbformat": 4,
 "nbformat_minor": 2
}
