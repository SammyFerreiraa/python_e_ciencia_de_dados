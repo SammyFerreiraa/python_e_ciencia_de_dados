{
 "cells": [
  {
   "cell_type": "code",
   "execution_count": 87,
   "metadata": {},
   "outputs": [],
   "source": [
    "import numpy as np"
   ]
  },
  {
   "cell_type": "code",
   "execution_count": 88,
   "metadata": {},
   "outputs": [],
   "source": [
    "class Node:\n",
    "    def __init__(self, value: int) -> None:\n",
    "        self.value: int = value\n",
    "        self.next: Node | None = None\n",
    "    \n",
    "    def __str__(self) -> str:\n",
    "        return str(self.value)"
   ]
  },
  {
   "cell_type": "code",
   "execution_count": 89,
   "metadata": {},
   "outputs": [],
   "source": [
    "class SimpleLinkedList:\n",
    "    def __init__(self) -> None:\n",
    "        self.head: Node | None = None\n",
    "    \n",
    "    def is_empty(self) -> bool:\n",
    "        return self.head == None\n",
    "    \n",
    "    def search(self, value: int) -> Node | None:\n",
    "        if self.is_empty():\n",
    "            print(\"The list is empty!\")\n",
    "            return\n",
    "        \n",
    "        current: Node = self.head\n",
    "\n",
    "        while current is not None:\n",
    "            if current.value == value:\n",
    "                return current\n",
    "            current = current.next\n",
    "        \n",
    "        return None\n",
    "\n",
    "    def add_start(self, value: int) -> None:\n",
    "        newNode = Node(value)\n",
    "        newNode.next = self.head\n",
    "        self.head = newNode\n",
    "    \n",
    "    def remove_start(self) -> Node | None:\n",
    "        if self.is_empty():\n",
    "            print(\"The list is empty!\")\n",
    "            return None\n",
    "        temp = self.head\n",
    "        self.head = self.head.next\n",
    "        return temp\n",
    "    \n",
    "    def remove_position(self, value: int) -> Node | None:\n",
    "        current: Node = self.head\n",
    "        previous: Node = self.head\n",
    "        while current.value != value:\n",
    "            if current is None:\n",
    "                return None\n",
    "            else:\n",
    "                previous = current\n",
    "                current = current.next\n",
    "        if current == self.head:\n",
    "            self.head = self.head.next\n",
    "        else:\n",
    "            self.head = current\n",
    "        \n",
    "        return current\n",
    "\n",
    "    def __str__(self) -> str:\n",
    "        if self.is_empty():\n",
    "            return \"The list is empty!\"\n",
    "        current = self.head\n",
    "        result = []\n",
    "        while current is not None:\n",
    "            result.append(str(current))\n",
    "            current = current.next\n",
    "        return f\"[{', '.join(result)}]\""
   ]
  },
  {
   "cell_type": "code",
   "execution_count": 90,
   "metadata": {},
   "outputs": [],
   "source": [
    "linked = SimpleLinkedList()"
   ]
  },
  {
   "cell_type": "code",
   "execution_count": 91,
   "metadata": {},
   "outputs": [],
   "source": [
    "linked.add_start(1)\n",
    "linked.add_start(2)\n",
    "linked.add_start(6)\n",
    "linked.add_start(5)\n"
   ]
  },
  {
   "cell_type": "code",
   "execution_count": 92,
   "metadata": {},
   "outputs": [
    {
     "name": "stdout",
     "output_type": "stream",
     "text": [
      "[5, 6, 2, 1]\n"
     ]
    }
   ],
   "source": [
    "print(linked)"
   ]
  },
  {
   "cell_type": "code",
   "execution_count": 93,
   "metadata": {},
   "outputs": [
    {
     "name": "stdout",
     "output_type": "stream",
     "text": [
      "[5, 6, 2, 1]\n"
     ]
    }
   ],
   "source": [
    "# print(linked.remove_start())\n",
    "print(linked)"
   ]
  },
  {
   "cell_type": "code",
   "execution_count": 94,
   "metadata": {},
   "outputs": [
    {
     "name": "stdout",
     "output_type": "stream",
     "text": [
      "None\n"
     ]
    }
   ],
   "source": [
    "print(linked.search(0))"
   ]
  },
  {
   "cell_type": "code",
   "execution_count": 97,
   "metadata": {},
   "outputs": [
    {
     "ename": "AttributeError",
     "evalue": "'NoneType' object has no attribute 'value'",
     "output_type": "error",
     "traceback": [
      "\u001b[1;31m---------------------------------------------------------------------------\u001b[0m",
      "\u001b[1;31mAttributeError\u001b[0m                            Traceback (most recent call last)",
      "Cell \u001b[1;32mIn[97], line 1\u001b[0m\n\u001b[1;32m----> 1\u001b[0m \u001b[38;5;28mprint\u001b[39m(\u001b[43mlinked\u001b[49m\u001b[38;5;241;43m.\u001b[39;49m\u001b[43mremove_position\u001b[49m\u001b[43m(\u001b[49m\u001b[38;5;241;43m3\u001b[39;49m\u001b[43m)\u001b[49m)\n",
      "Cell \u001b[1;32mIn[89], line 38\u001b[0m, in \u001b[0;36mSimpleLinkedList.remove_position\u001b[1;34m(self, value)\u001b[0m\n\u001b[0;32m     36\u001b[0m current: Node \u001b[38;5;241m=\u001b[39m \u001b[38;5;28mself\u001b[39m\u001b[38;5;241m.\u001b[39mhead\n\u001b[0;32m     37\u001b[0m previous: Node \u001b[38;5;241m=\u001b[39m \u001b[38;5;28mself\u001b[39m\u001b[38;5;241m.\u001b[39mhead\n\u001b[1;32m---> 38\u001b[0m \u001b[38;5;28;01mwhile\u001b[39;00m \u001b[43mcurrent\u001b[49m\u001b[38;5;241;43m.\u001b[39;49m\u001b[43mvalue\u001b[49m \u001b[38;5;241m!=\u001b[39m value:\n\u001b[0;32m     39\u001b[0m     \u001b[38;5;28;01mif\u001b[39;00m current \u001b[38;5;129;01mis\u001b[39;00m \u001b[38;5;28;01mNone\u001b[39;00m:\n\u001b[0;32m     40\u001b[0m         \u001b[38;5;28;01mreturn\u001b[39;00m \u001b[38;5;28;01mNone\u001b[39;00m\n",
      "\u001b[1;31mAttributeError\u001b[0m: 'NoneType' object has no attribute 'value'"
     ]
    }
   ],
   "source": [
    "print(linked.remove_position(3))"
   ]
  },
  {
   "cell_type": "code",
   "execution_count": 98,
   "metadata": {},
   "outputs": [
    {
     "name": "stdout",
     "output_type": "stream",
     "text": [
      "[6, 2, 1]\n"
     ]
    }
   ],
   "source": [
    "print(linked)"
   ]
  }
 ],
 "metadata": {
  "kernelspec": {
   "display_name": "Python 3",
   "language": "python",
   "name": "python3"
  },
  "language_info": {
   "codemirror_mode": {
    "name": "ipython",
    "version": 3
   },
   "file_extension": ".py",
   "mimetype": "text/x-python",
   "name": "python",
   "nbconvert_exporter": "python",
   "pygments_lexer": "ipython3",
   "version": "3.12.1"
  }
 },
 "nbformat": 4,
 "nbformat_minor": 2
}
