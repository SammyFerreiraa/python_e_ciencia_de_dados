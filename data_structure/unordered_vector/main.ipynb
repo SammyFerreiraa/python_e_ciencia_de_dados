{
 "cells": [
  {
   "cell_type": "code",
   "execution_count": 42,
   "metadata": {},
   "outputs": [],
   "source": [
    "import numpy as np\n",
    "import numpy._typing as npt"
   ]
  },
  {
   "cell_type": "code",
   "execution_count": 43,
   "metadata": {},
   "outputs": [],
   "source": [
    "class UnorderedVector:\n",
    "    def __init__(self, capacity: int) -> None:\n",
    "        self.index: int = -1\n",
    "        self.capacity: int = capacity\n",
    "        self.values: npt.ArrayLike = np.empty(self.capacity, dtype=int)\n",
    "\n",
    "    def is_empty(self) -> bool:\n",
    "        return self.index == -1\n",
    "\n",
    "    def is_full(self) -> bool:\n",
    "        return self.index == self.capacity - 1\n",
    "\n",
    "    def add(self, value: int) -> None:\n",
    "        if self.is_full():\n",
    "            print(\"Vector is full!\")\n",
    "            return\n",
    "        self.index += 1\n",
    "        self.values[self.index] = value\n",
    "\n",
    "    def __str__(self) -> str:\n",
    "        return \"[\" + \", \".join(str(self.values[i]) for i in range(self.index + 1)) + \"]\""
   ]
  },
  {
   "cell_type": "code",
   "execution_count": 44,
   "metadata": {},
   "outputs": [],
   "source": [
    "vector = UnorderedVector(2)"
   ]
  },
  {
   "cell_type": "code",
   "execution_count": 45,
   "metadata": {},
   "outputs": [
    {
     "name": "stdout",
     "output_type": "stream",
     "text": [
      "Vector is full!\n"
     ]
    }
   ],
   "source": [
    "vector.add(1)\n",
    "vector.add(2)\n",
    "vector.add(4)"
   ]
  },
  {
   "cell_type": "code",
   "execution_count": 46,
   "metadata": {},
   "outputs": [
    {
     "name": "stdout",
     "output_type": "stream",
     "text": [
      "[1, 2]\n"
     ]
    }
   ],
   "source": [
    "print(vector)"
   ]
  },
  {
   "cell_type": "code",
   "execution_count": null,
   "metadata": {},
   "outputs": [],
   "source": []
  }
 ],
 "metadata": {
  "kernelspec": {
   "display_name": "Python 3",
   "language": "python",
   "name": "python3"
  },
  "language_info": {
   "codemirror_mode": {
    "name": "ipython",
    "version": 3
   },
   "file_extension": ".py",
   "mimetype": "text/x-python",
   "name": "python",
   "nbconvert_exporter": "python",
   "pygments_lexer": "ipython3",
   "version": "3.12.1"
  }
 },
 "nbformat": 4,
 "nbformat_minor": 2
}
