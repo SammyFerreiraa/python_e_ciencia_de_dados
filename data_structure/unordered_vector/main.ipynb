{
 "cells": [
  {
   "cell_type": "code",
   "execution_count": 80,
   "metadata": {},
   "outputs": [],
   "source": [
    "import numpy as np\n",
    "import numpy._typing as npt"
   ]
  },
  {
   "cell_type": "code",
   "execution_count": 81,
   "metadata": {},
   "outputs": [],
   "source": [
    "class UnorderedVector:\n",
    "    def __init__(self, capacity: int) -> None:\n",
    "        self.index: int = -1\n",
    "        self.capacity: int = capacity\n",
    "        self.values: npt.ArrayLike = np.empty(self.capacity, dtype=int)\n",
    "\n",
    "    def is_empty(self) -> bool:\n",
    "        return self.index == -1\n",
    "\n",
    "    def is_full(self) -> bool:\n",
    "        return self.index == self.capacity - 1\n",
    "\n",
    "    def add(self, value: int) -> None:\n",
    "        if self.is_full():\n",
    "            print(\"Vector is full!\")\n",
    "            return\n",
    "        self.index += 1\n",
    "        self.values[self.index] = value\n",
    "    \n",
    "    def linear_search(self, value: int) -> int:\n",
    "        if self.is_empty():\n",
    "            print(\"Vector is empty\")\n",
    "            return\n",
    "        \n",
    "        for i in range(self.index + 1):\n",
    "            if value == self.values[i]:\n",
    "                return i\n",
    "        return -1\n",
    "    \n",
    "    def delete(self, value: int):\n",
    "        if self.is_empty():\n",
    "            print(\"Vector is empty\")\n",
    "            return\n",
    "        \n",
    "        position = self.linear_search(value)\n",
    "\n",
    "        if position == -1:\n",
    "            print(\"The entered value does not exist in the vector\")\n",
    "            return\n",
    "        \n",
    "        print(position)\n",
    "\n",
    "        while position < self.index:\n",
    "            self.values[position] = self.values[position + 1]\n",
    "            position += 1\n",
    "        \n",
    "        self.index -= 1\n",
    "\n",
    "    def __str__(self) -> str:\n",
    "        return \"[\" + \", \".join(str(self.values[i]) for i in range(self.index + 1)) + \"]\""
   ]
  },
  {
   "cell_type": "code",
   "execution_count": 82,
   "metadata": {},
   "outputs": [],
   "source": [
    "vector = UnorderedVector(5)"
   ]
  },
  {
   "cell_type": "code",
   "execution_count": 83,
   "metadata": {},
   "outputs": [],
   "source": [
    "vector.add(1)\n",
    "vector.add(2)\n",
    "vector.add(4)\n",
    "vector.add(5)\n",
    "vector.add(8)"
   ]
  },
  {
   "cell_type": "code",
   "execution_count": 84,
   "metadata": {},
   "outputs": [
    {
     "data": {
      "text/plain": [
       "1"
      ]
     },
     "execution_count": 84,
     "metadata": {},
     "output_type": "execute_result"
    }
   ],
   "source": [
    "vector.linear_search(2)"
   ]
  },
  {
   "cell_type": "code",
   "execution_count": 85,
   "metadata": {},
   "outputs": [
    {
     "name": "stdout",
     "output_type": "stream",
     "text": [
      "4\n"
     ]
    }
   ],
   "source": [
    "# vector.delete(8)"
   ]
  },
  {
   "cell_type": "code",
   "execution_count": 86,
   "metadata": {},
   "outputs": [
    {
     "name": "stdout",
     "output_type": "stream",
     "text": [
      "[1, 2, 4, 5]\n"
     ]
    }
   ],
   "source": [
    "print(vector)"
   ]
  }
 ],
 "metadata": {
  "kernelspec": {
   "display_name": "Python 3",
   "language": "python",
   "name": "python3"
  },
  "language_info": {
   "codemirror_mode": {
    "name": "ipython",
    "version": 3
   },
   "file_extension": ".py",
   "mimetype": "text/x-python",
   "name": "python",
   "nbconvert_exporter": "python",
   "pygments_lexer": "ipython3",
   "version": "3.12.1"
  }
 },
 "nbformat": 4,
 "nbformat_minor": 2
}
