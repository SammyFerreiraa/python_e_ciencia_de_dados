{
 "cells": [
  {
   "cell_type": "code",
   "execution_count": 1,
   "metadata": {},
   "outputs": [],
   "source": [
    "import numpy as np\n",
    "import numpy.typing as npt"
   ]
  },
  {
   "cell_type": "code",
   "execution_count": null,
   "metadata": {},
   "outputs": [],
   "source": [
    "class UnorderedVector:\n",
    "    def __init__(self) -> None:\n",
    "        ...\n",
    "    \n",
    "    def insert(self) -> None:\n",
    "        ...\n",
    "    \n",
    "    def linear_search(self) -> None:\n",
    "        ...\n",
    "    \n",
    "    def delete(self) -> None:\n",
    "        ...\n",
    "    \n",
    "    def update(self) -> None:\n",
    "        ...\n",
    "    \n",
    "    def __str__(self) -> str:\n",
    "        ..."
   ]
  }
 ],
 "metadata": {
  "kernelspec": {
   "display_name": "Python 3",
   "language": "python",
   "name": "python3"
  },
  "language_info": {
   "codemirror_mode": {
    "name": "ipython",
    "version": 3
   },
   "file_extension": ".py",
   "mimetype": "text/x-python",
   "name": "python",
   "nbconvert_exporter": "python",
   "pygments_lexer": "ipython3",
   "version": "3.12.1"
  }
 },
 "nbformat": 4,
 "nbformat_minor": 2
}
