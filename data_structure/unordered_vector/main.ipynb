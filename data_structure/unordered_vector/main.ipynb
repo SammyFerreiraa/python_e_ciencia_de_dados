{
 "cells": [
  {
   "cell_type": "code",
   "execution_count": 32,
   "metadata": {},
   "outputs": [],
   "source": [
    "import numpy as np\n",
    "import numpy.typing as npt"
   ]
  },
  {
   "cell_type": "code",
   "execution_count": 37,
   "metadata": {},
   "outputs": [],
   "source": [
    "class UnorderedVector:\n",
    "    def __init__(self, capacity: int) -> None:\n",
    "        self.capacity: int = capacity\n",
    "        self.index: int = -1\n",
    "        self.values: npt.ArrayLike[int] = np.empty(self.capacity, dtype=int)\n",
    "    \n",
    "    def insert(self, value: int) -> None:\n",
    "        if self.index == self.capacity - 1:\n",
    "            print(\"Vector is full\")\n",
    "            return\n",
    "        self.index += 1\n",
    "        self.values[self.index] = value\n",
    "    \n",
    "    def linear_search(self) -> None:\n",
    "        ...\n",
    "    \n",
    "    def delete(self) -> None:\n",
    "        ...\n",
    "    \n",
    "    def update(self) -> None:\n",
    "        ...\n",
    "    \n",
    "    def __str__(self) -> str:\n",
    "        if self.index == -1:\n",
    "            return \"Vector is empty!\"\n",
    "        return  \"[\" + \", \".join(f\"{value}\" for value in self.values) + \"]\""
   ]
  },
  {
   "cell_type": "code",
   "execution_count": 38,
   "metadata": {},
   "outputs": [],
   "source": [
    "vector = UnorderedVector(5)"
   ]
  },
  {
   "cell_type": "code",
   "execution_count": 39,
   "metadata": {},
   "outputs": [
    {
     "name": "stdout",
     "output_type": "stream",
     "text": [
      "Vector is full\n"
     ]
    }
   ],
   "source": [
    "vector.insert(3)\n",
    "vector.insert(4)\n",
    "vector.insert(5)\n",
    "vector.insert(1)\n",
    "vector.insert(2)\n",
    "vector.insert(4)"
   ]
  },
  {
   "cell_type": "code",
   "execution_count": 40,
   "metadata": {},
   "outputs": [
    {
     "name": "stdout",
     "output_type": "stream",
     "text": [
      "[3, 4, 5, 1, 2]\n"
     ]
    }
   ],
   "source": [
    "print(vector)"
   ]
  }
 ],
 "metadata": {
  "kernelspec": {
   "display_name": "Python 3",
   "language": "python",
   "name": "python3"
  },
  "language_info": {
   "codemirror_mode": {
    "name": "ipython",
    "version": 3
   },
   "file_extension": ".py",
   "mimetype": "text/x-python",
   "name": "python",
   "nbconvert_exporter": "python",
   "pygments_lexer": "ipython3",
   "version": "3.12.1"
  }
 },
 "nbformat": 4,
 "nbformat_minor": 2
}
