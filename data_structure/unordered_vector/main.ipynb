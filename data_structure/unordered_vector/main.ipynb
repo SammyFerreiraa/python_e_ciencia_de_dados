{
 "cells": [
  {
   "cell_type": "code",
   "execution_count": 3,
   "metadata": {},
   "outputs": [],
   "source": [
    "import numpy as np\n",
    "import numpy.typing as npt"
   ]
  },
  {
   "cell_type": "code",
   "execution_count": 70,
   "metadata": {},
   "outputs": [],
   "source": [
    "class UnorderedVector:\n",
    "    def __init__(self, capacity: int) -> None:\n",
    "        self.capacity: int = capacity\n",
    "        self.index: int = -1\n",
    "        self.values: npt.ArrayLike[int] = np.empty(self.capacity, dtype=int)\n",
    "    \n",
    "    def is_full(self) -> bool:\n",
    "        return self.index == self.capacity - 1\n",
    "    \n",
    "    def is_empty(self) -> bool:\n",
    "        return self.index == -1\n",
    "\n",
    "    def insert(self, value: int) -> None:\n",
    "        if self.is_full():\n",
    "            print(\"Vector is full!\")\n",
    "            return\n",
    "        self.index += 1\n",
    "        self.values[self.index] = value\n",
    "    \n",
    "    def linear_search(self, value: int) -> int | None:\n",
    "        if self.is_empty():\n",
    "            print(\"Vector is empty!\")\n",
    "            return\n",
    "        for i in range(self.index + 1):\n",
    "            if value == self.values[i]:\n",
    "                return i\n",
    "        return -1\n",
    "    \n",
    "    def delete(self, value: int) -> int | None:\n",
    "        position = self.linear_search(value)\n",
    "\n",
    "        if position == -1:\n",
    "            return -1\n",
    "\n",
    "        for i in range(position, self.index):\n",
    "            self.values[i] = self.values[i + 1]\n",
    "        \n",
    "        self.index -= 1\n",
    "    \n",
    "    def update(self) -> None:\n",
    "        ...\n",
    "    \n",
    "    def __str__(self) -> str:\n",
    "        if self.is_empty():\n",
    "            return \"Vector is empty!\"\n",
    "        return  \"[\" + \", \".join(f\"{self.values[i]}\" for i in range(self.index+1)) + \"]\""
   ]
  },
  {
   "cell_type": "code",
   "execution_count": 71,
   "metadata": {},
   "outputs": [],
   "source": [
    "vector = UnorderedVector(5)"
   ]
  },
  {
   "cell_type": "code",
   "execution_count": 72,
   "metadata": {},
   "outputs": [
    {
     "name": "stdout",
     "output_type": "stream",
     "text": [
      "Vector is full!\n"
     ]
    }
   ],
   "source": [
    "vector.insert(1)\n",
    "vector.insert(2)\n",
    "vector.insert(3)\n",
    "vector.insert(4)\n",
    "vector.insert(5)\n",
    "vector.insert(6)"
   ]
  },
  {
   "cell_type": "code",
   "execution_count": 73,
   "metadata": {},
   "outputs": [
    {
     "name": "stdout",
     "output_type": "stream",
     "text": [
      "[1, 2, 3, 4, 5]\n"
     ]
    }
   ],
   "source": [
    "print(vector)"
   ]
  },
  {
   "cell_type": "code",
   "execution_count": 74,
   "metadata": {},
   "outputs": [
    {
     "data": {
      "text/plain": [
       "4"
      ]
     },
     "execution_count": 74,
     "metadata": {},
     "output_type": "execute_result"
    }
   ],
   "source": [
    "vector.linear_search(5)"
   ]
  },
  {
   "cell_type": "code",
   "execution_count": 77,
   "metadata": {},
   "outputs": [
    {
     "data": {
      "text/plain": [
       "-1"
      ]
     },
     "execution_count": 77,
     "metadata": {},
     "output_type": "execute_result"
    }
   ],
   "source": [
    "vector.delete(5)"
   ]
  },
  {
   "cell_type": "code",
   "execution_count": 78,
   "metadata": {},
   "outputs": [],
   "source": [
    "vector.delete(2)"
   ]
  },
  {
   "cell_type": "code",
   "execution_count": 79,
   "metadata": {},
   "outputs": [
    {
     "name": "stdout",
     "output_type": "stream",
     "text": [
      "[1, 3, 4]\n"
     ]
    }
   ],
   "source": [
    "print(vector)"
   ]
  }
 ],
 "metadata": {
  "kernelspec": {
   "display_name": "Python 3",
   "language": "python",
   "name": "python3"
  },
  "language_info": {
   "codemirror_mode": {
    "name": "ipython",
    "version": 3
   },
   "file_extension": ".py",
   "mimetype": "text/x-python",
   "name": "python",
   "nbconvert_exporter": "python",
   "pygments_lexer": "ipython3",
   "version": "3.12.1"
  }
 },
 "nbformat": 4,
 "nbformat_minor": 2
}
