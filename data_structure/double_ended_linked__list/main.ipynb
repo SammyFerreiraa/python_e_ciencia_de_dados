{
 "cells": [
  {
   "cell_type": "code",
   "execution_count": 1,
   "metadata": {},
   "outputs": [],
   "source": [
    "class Node:\n",
    "    def __init__(self, value: int) -> None:\n",
    "        self.value: int = value\n",
    "        self.next: Node | None = None\n",
    "    \n",
    "    def __str__(self) -> str:\n",
    "        return str(self.value)"
   ]
  },
  {
   "cell_type": "code",
   "execution_count": 2,
   "metadata": {},
   "outputs": [],
   "source": [
    "class DoubleEndedLinkedList():\n",
    "    def __init__(self) -> None:\n",
    "        self.head: Node | None = None\n",
    "        self.tail: Node | None = None\n",
    "    \n",
    "    def __is_empty(self) -> bool:\n",
    "        return self.head == None\n",
    "    \n",
    "    def add_start(self, value: int) -> None:\n",
    "        node: Node = Node(value)\n",
    "\n",
    "        if self.__is_empty():\n",
    "            self.tail = node\n",
    "        \n",
    "        node.next = self.head\n",
    "        self.head = node\n",
    "    \n",
    "    def add_end(self, value: int) -> None:\n",
    "        node: Node = Node(value)\n",
    "\n",
    "        if self.__is_empty():\n",
    "            self.head = node\n",
    "        else:\n",
    "            self.tail.next = node\n",
    "        \n",
    "        self.tail = node\n",
    "    \n",
    "    def remove_start(self) -> Node:\n",
    "        if self.__is_empty():\n",
    "            print(\"List is empty.\")\n",
    "            return\n",
    "        \n",
    "        temp: Node = self.head\n",
    "\n",
    "        if self.head.next is None:\n",
    "            self.tail = None\n",
    "        \n",
    "        self.head = self.head.next\n",
    "\n",
    "        return temp\n",
    "    \n",
    "    def __str__(self) -> str:\n",
    "        if self.__is_empty():\n",
    "            return \"The list is empty!\"\n",
    "        current = self.head\n",
    "        result = []\n",
    "        while current is not None:\n",
    "            result.append(str(current))\n",
    "            current = current.next\n",
    "        return f\"[{', '.join(result)}]\""
   ]
  },
  {
   "cell_type": "code",
   "execution_count": 3,
   "metadata": {},
   "outputs": [],
   "source": [
    "l = DoubleEndedLinkedList()"
   ]
  },
  {
   "cell_type": "code",
   "execution_count": 4,
   "metadata": {},
   "outputs": [],
   "source": [
    "l.add_start(1)\n",
    "l.add_start(2)\n",
    "l.add_start(3)"
   ]
  },
  {
   "cell_type": "code",
   "execution_count": 5,
   "metadata": {},
   "outputs": [
    {
     "name": "stdout",
     "output_type": "stream",
     "text": [
      "3\n",
      "1\n"
     ]
    }
   ],
   "source": [
    "print(l.head)\n",
    "print(l.tail)"
   ]
  },
  {
   "cell_type": "code",
   "execution_count": 6,
   "metadata": {},
   "outputs": [],
   "source": [
    "l.add_end(9)\n",
    "l.add_end(5)"
   ]
  },
  {
   "cell_type": "code",
   "execution_count": 9,
   "metadata": {},
   "outputs": [
    {
     "name": "stdout",
     "output_type": "stream",
     "text": [
      "3\n",
      "5\n"
     ]
    }
   ],
   "source": [
    "print(l.head)\n",
    "print(l.tail)"
   ]
  },
  {
   "cell_type": "code",
   "execution_count": 12,
   "metadata": {},
   "outputs": [
    {
     "data": {
      "text/plain": [
       "<__main__.Node at 0x228e74d8c20>"
      ]
     },
     "execution_count": 12,
     "metadata": {},
     "output_type": "execute_result"
    }
   ],
   "source": [
    "l.remove_start()"
   ]
  },
  {
   "cell_type": "code",
   "execution_count": 13,
   "metadata": {},
   "outputs": [
    {
     "name": "stdout",
     "output_type": "stream",
     "text": [
      "[1, 9, 5]\n"
     ]
    }
   ],
   "source": [
    "print(l)"
   ]
  }
 ],
 "metadata": {
  "kernelspec": {
   "display_name": "Python 3",
   "language": "python",
   "name": "python3"
  },
  "language_info": {
   "codemirror_mode": {
    "name": "ipython",
    "version": 3
   },
   "file_extension": ".py",
   "mimetype": "text/x-python",
   "name": "python",
   "nbconvert_exporter": "python",
   "pygments_lexer": "ipython3",
   "version": "3.12.1"
  }
 },
 "nbformat": 4,
 "nbformat_minor": 2
}
