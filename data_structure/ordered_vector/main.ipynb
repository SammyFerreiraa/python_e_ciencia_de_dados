{
 "cells": [
  {
   "cell_type": "code",
   "execution_count": 95,
   "metadata": {},
   "outputs": [],
   "source": [
    "import numpy as np\n",
    "import numpy.typing as npt"
   ]
  },
  {
   "cell_type": "code",
   "execution_count": 96,
   "metadata": {},
   "outputs": [],
   "source": [
    "class OrderedVector:\n",
    "    def __init__(self, capacity: int) -> None:\n",
    "        self.index: int = -1\n",
    "        self.capacity: int = capacity\n",
    "        self.values: npt.ArrayLike = np.empty(capacity, dtype=int)\n",
    "\n",
    "    def is_empty(self) -> bool:\n",
    "        return self.index == -1\n",
    "\n",
    "    def is_full(self) -> bool:\n",
    "        return self.index + 1 == self.capacity\n",
    "\n",
    "    def add(self, value: int) -> None:\n",
    "        if self.is_full():\n",
    "            print(\"Vector is full\")\n",
    "            return\n",
    "        \n",
    "        position = 0\n",
    "\n",
    "        while value > self.values[position] and position <= self.index:\n",
    "            position += 1\n",
    "        \n",
    "        last_position = self.index + 1\n",
    "\n",
    "        while position < last_position:\n",
    "            self.values[last_position] = self.values[last_position - 1]\n",
    "            last_position -= 1\n",
    "        \n",
    "        self.values[position] = value\n",
    "        self.index += 1\n",
    "\n",
    "    def linear_search(self, value: int):\n",
    "        if self.is_empty():\n",
    "            print(\"Vector is empty\")\n",
    "            return\n",
    "        for i in range(self.index + 1):\n",
    "            if value < self.values[i]:\n",
    "                return -1\n",
    "            if value == self.values[i]:\n",
    "                return i\n",
    "    \n",
    "    def delete(self, value: int):\n",
    "        if self.is_empty():\n",
    "            print(\"Vector is empty\")\n",
    "            return\n",
    "\n",
    "        position = self.linear_search(value)\n",
    "\n",
    "        if position == -1:\n",
    "            print(\"There is no value in the vector\")\n",
    "            return\n",
    "        \n",
    "        while position < self.index:\n",
    "            self.values[position] = self.values[position + 1]\n",
    "            position += 1\n",
    "        \n",
    "        self.index -= 1\n",
    "\n",
    "    def __str__(self) -> str:\n",
    "        return \"[\" + \", \".join(str(self.values[i]) for i in range(self.index + 1)) +\"]\""
   ]
  },
  {
   "cell_type": "code",
   "execution_count": 97,
   "metadata": {},
   "outputs": [],
   "source": [
    "vector = OrderedVector(6)"
   ]
  },
  {
   "cell_type": "code",
   "execution_count": 98,
   "metadata": {},
   "outputs": [
    {
     "data": {
      "text/plain": [
       "1"
      ]
     },
     "execution_count": 98,
     "metadata": {},
     "output_type": "execute_result"
    }
   ],
   "source": [
    "vector.add(6)\n",
    "vector.add(4)\n",
    "vector.add(3)\n",
    "\n",
    "vector.linear_search(4)"
   ]
  },
  {
   "cell_type": "code",
   "execution_count": 99,
   "metadata": {},
   "outputs": [],
   "source": [
    "vector.linear_search(8)"
   ]
  },
  {
   "cell_type": "code",
   "execution_count": 100,
   "metadata": {},
   "outputs": [],
   "source": [
    "vector.add(5)\n",
    "vector.add(1)\n",
    "vector.add(8)"
   ]
  },
  {
   "cell_type": "code",
   "execution_count": 101,
   "metadata": {},
   "outputs": [
    {
     "data": {
      "text/plain": [
       "1"
      ]
     },
     "execution_count": 101,
     "metadata": {},
     "output_type": "execute_result"
    }
   ],
   "source": [
    "vector.linear_search(3)"
   ]
  },
  {
   "cell_type": "code",
   "execution_count": 102,
   "metadata": {},
   "outputs": [
    {
     "name": "stdout",
     "output_type": "stream",
     "text": [
      "[1, 3, 4, 5, 6, 8]\n"
     ]
    }
   ],
   "source": [
    "print(vector)"
   ]
  },
  {
   "cell_type": "code",
   "execution_count": null,
   "metadata": {},
   "outputs": [],
   "source": []
  }
 ],
 "metadata": {
  "kernelspec": {
   "display_name": "Python 3",
   "language": "python",
   "name": "python3"
  },
  "language_info": {
   "codemirror_mode": {
    "name": "ipython",
    "version": 3
   },
   "file_extension": ".py",
   "mimetype": "text/x-python",
   "name": "python",
   "nbconvert_exporter": "python",
   "pygments_lexer": "ipython3",
   "version": "3.12.1"
  }
 },
 "nbformat": 4,
 "nbformat_minor": 2
}
