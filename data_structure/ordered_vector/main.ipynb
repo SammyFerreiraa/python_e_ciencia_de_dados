{
 "cells": [
  {
   "cell_type": "code",
   "execution_count": 119,
   "metadata": {},
   "outputs": [],
   "source": [
    "import numpy as np\n",
    "import numpy.typing as npt"
   ]
  },
  {
   "cell_type": "code",
   "execution_count": 120,
   "metadata": {},
   "outputs": [],
   "source": [
    "class OrderedVector:\n",
    "    def __init__(self, capacity: int) -> None:\n",
    "        self.index: int = -1\n",
    "        self.capacity: int = capacity\n",
    "        self.values: npt.ArrayLike = np.empty(self.capacity, dtype=int)\n",
    "    \n",
    "    def is_full(self) -> bool:\n",
    "        return self.index == (self.capacity - 1)\n",
    "    \n",
    "    def is_empty(self) -> bool:\n",
    "        return self.index == -1\n",
    "\n",
    "    # Está dando algo errado nessa parte, está inserindo lixo no primeiro valor\n",
    "    def insert(self, value: int) -> None:\n",
    "        if self.is_full():\n",
    "            print(\"The vector is full!\")\n",
    "            return\n",
    "        \n",
    "        position = 0\n",
    "\n",
    "        for i in range(self.index + 1):\n",
    "            position = i\n",
    "            if self.values[position] > value:\n",
    "                break\n",
    "            if i == self.index:\n",
    "                position += 1\n",
    "        \n",
    "        last_position = self.index\n",
    "\n",
    "        while position <= last_position:\n",
    "            self.values[last_position + 1] = self.values[last_position]\n",
    "            last_position -= 1\n",
    "\n",
    "        self.values[position] = value\n",
    "        self.index += 1\n",
    " \n",
    "    def linear_search(self, value: int) -> int | None:\n",
    "        if self.is_empty():\n",
    "            print(\"Vector is empty!\")\n",
    "        for i in range(self.index + 1):\n",
    "            if value == self.values[i]:\n",
    "                return i\n",
    "        return -1\n",
    "    \n",
    "    def binary_search(self, value: int) -> None:\n",
    "        if self.is_empty():\n",
    "            print(\"Vector is empty\")\n",
    "            return\n",
    "        \n",
    "        lower = 0\n",
    "        upper = self.index\n",
    "\n",
    "        while lower < upper:\n",
    "            midpoint = (lower + upper) // 2\n",
    "            \n",
    "            if value == self.values[midpoint]:\n",
    "                return midpoint\n",
    "            elif value < self.values[midpoint]:\n",
    "                upper = midpoint\n",
    "            else:\n",
    "                lower = midpoint\n",
    "\n",
    "            if midpoint == self.index or value == 0:\n",
    "                return -1\n",
    "        \n",
    "        return -1\n",
    "\n",
    "    \n",
    "    def remove(self, value: int) -> int | None:\n",
    "        if self.is_empty():\n",
    "            print(\"Vector is empty\")\n",
    "            return\n",
    "        \n",
    "        position = self.linear_search(value)\n",
    "        \n",
    "        if position == -1:\n",
    "            return -1\n",
    "\n",
    "        last_position = self.index\n",
    "\n",
    "        while position < last_position:\n",
    "            self.values[position] = self.values[position + 1]\n",
    "            position += 1\n",
    "        \n",
    "        self.index -= 1\n",
    "    \n",
    "    def __str__(self) -> str:\n",
    "        if self.is_empty():\n",
    "            return \"Vector is empty!\"\n",
    "        return \"[\" + \", \".join(f\"{self.values[i]}\" for i in range(self.index)) + \"]\""
   ]
  },
  {
   "cell_type": "code",
   "execution_count": 121,
   "metadata": {},
   "outputs": [],
   "source": [
    "vector = OrderedVector(6)\n"
   ]
  },
  {
   "cell_type": "code",
   "execution_count": 122,
   "metadata": {},
   "outputs": [],
   "source": [
    "vector.insert(1)"
   ]
  },
  {
   "cell_type": "code",
   "execution_count": 123,
   "metadata": {},
   "outputs": [
    {
     "name": "stdout",
     "output_type": "stream",
     "text": [
      "[]\n"
     ]
    }
   ],
   "source": [
    "print(vector)"
   ]
  },
  {
   "cell_type": "code",
   "execution_count": 124,
   "metadata": {},
   "outputs": [],
   "source": [
    "vector.insert(4)"
   ]
  },
  {
   "cell_type": "code",
   "execution_count": 125,
   "metadata": {},
   "outputs": [
    {
     "name": "stdout",
     "output_type": "stream",
     "text": [
      "[1]\n"
     ]
    }
   ],
   "source": [
    "print(vector)"
   ]
  },
  {
   "cell_type": "code",
   "execution_count": 126,
   "metadata": {},
   "outputs": [],
   "source": [
    "vector.insert(5)"
   ]
  },
  {
   "cell_type": "code",
   "execution_count": 127,
   "metadata": {},
   "outputs": [
    {
     "name": "stdout",
     "output_type": "stream",
     "text": [
      "[1, 4]\n"
     ]
    }
   ],
   "source": [
    "print(vector)"
   ]
  },
  {
   "cell_type": "code",
   "execution_count": 128,
   "metadata": {},
   "outputs": [],
   "source": [
    "vector.insert(3)"
   ]
  },
  {
   "cell_type": "code",
   "execution_count": 129,
   "metadata": {},
   "outputs": [
    {
     "name": "stdout",
     "output_type": "stream",
     "text": [
      "[1, 3, 4]\n"
     ]
    }
   ],
   "source": [
    "print(vector)"
   ]
  },
  {
   "cell_type": "code",
   "execution_count": 130,
   "metadata": {},
   "outputs": [],
   "source": [
    "vector.insert(2)"
   ]
  },
  {
   "cell_type": "code",
   "execution_count": 131,
   "metadata": {},
   "outputs": [
    {
     "name": "stdout",
     "output_type": "stream",
     "text": [
      "[1, 2, 3, 4]\n"
     ]
    }
   ],
   "source": [
    "print(vector)"
   ]
  },
  {
   "cell_type": "code",
   "execution_count": 132,
   "metadata": {},
   "outputs": [
    {
     "ename": "KeyboardInterrupt",
     "evalue": "",
     "output_type": "error",
     "traceback": [
      "\u001b[1;31m---------------------------------------------------------------------------\u001b[0m",
      "\u001b[1;31mKeyboardInterrupt\u001b[0m                         Traceback (most recent call last)",
      "Cell \u001b[1;32mIn[132], line 1\u001b[0m\n\u001b[1;32m----> 1\u001b[0m \u001b[43mvector\u001b[49m\u001b[38;5;241;43m.\u001b[39;49m\u001b[43mbinary_search\u001b[49m\u001b[43m(\u001b[49m\u001b[38;5;241;43m5\u001b[39;49m\u001b[43m)\u001b[49m\n",
      "Cell \u001b[1;32mIn[120], line 53\u001b[0m, in \u001b[0;36mOrderedVector.binary_search\u001b[1;34m(self, value)\u001b[0m\n\u001b[0;32m     50\u001b[0m lower \u001b[38;5;241m=\u001b[39m \u001b[38;5;241m0\u001b[39m\n\u001b[0;32m     51\u001b[0m upper \u001b[38;5;241m=\u001b[39m \u001b[38;5;28mself\u001b[39m\u001b[38;5;241m.\u001b[39mindex\n\u001b[1;32m---> 53\u001b[0m \u001b[38;5;28;01mwhile\u001b[39;00m lower \u001b[38;5;241m<\u001b[39m upper:\n\u001b[0;32m     54\u001b[0m     midpoint \u001b[38;5;241m=\u001b[39m (lower \u001b[38;5;241m+\u001b[39m upper) \u001b[38;5;241m/\u001b[39m\u001b[38;5;241m/\u001b[39m \u001b[38;5;241m2\u001b[39m\n\u001b[0;32m     56\u001b[0m     \u001b[38;5;28;01mif\u001b[39;00m value \u001b[38;5;241m==\u001b[39m \u001b[38;5;28mself\u001b[39m\u001b[38;5;241m.\u001b[39mvalues[midpoint]:\n",
      "\u001b[1;31mKeyboardInterrupt\u001b[0m: "
     ]
    }
   ],
   "source": [
    "vector.binary_search(5)"
   ]
  }
 ],
 "metadata": {
  "kernelspec": {
   "display_name": "Python 3",
   "language": "python",
   "name": "python3"
  },
  "language_info": {
   "codemirror_mode": {
    "name": "ipython",
    "version": 3
   },
   "file_extension": ".py",
   "mimetype": "text/x-python",
   "name": "python",
   "nbconvert_exporter": "python",
   "pygments_lexer": "ipython3",
   "version": "3.12.1"
  }
 },
 "nbformat": 4,
 "nbformat_minor": 2
}
