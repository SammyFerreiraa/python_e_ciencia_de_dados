{
 "cells": [
  {
   "cell_type": "code",
   "execution_count": 71,
   "metadata": {},
   "outputs": [],
   "source": [
    "import numpy as np\n",
    "import numpy.typing as npt"
   ]
  },
  {
   "cell_type": "code",
   "execution_count": 72,
   "metadata": {},
   "outputs": [],
   "source": [
    "class OrderedVector:\n",
    "    def __init__(self, capacity: int) -> None:\n",
    "        self.index: int = -1\n",
    "        self.capacity: int = capacity\n",
    "        self.values: npt.ArrayLike = np.empty(self.capacity, dtype=int)\n",
    "    \n",
    "    def is_full(self) -> bool:\n",
    "        return self.index == (self.capacity - 1)\n",
    "    \n",
    "    def is_empty(self) -> bool:\n",
    "        return self.index == -1\n",
    "\n",
    "    # Está dando algo errado nessa parte, está inserindo lixo no primeiro valor\n",
    "    def insert(self, value: int) -> None:\n",
    "        if self.is_full():\n",
    "            print(\"The vector is full!\")\n",
    "            return\n",
    "        \n",
    "        position = 0\n",
    "\n",
    "        for i in range(self.index + 1):\n",
    "            position = i\n",
    "            if self.values[position] > value:\n",
    "                break\n",
    "            if i == self.index:\n",
    "                position += 1\n",
    "        \n",
    "        last_position = self.index\n",
    "\n",
    "        while position <= last_position:\n",
    "            self.values[last_position + 1] = self.values[last_position]\n",
    "            last_position -= 1\n",
    "\n",
    "        self.values[position] = value\n",
    "        self.index += 1\n",
    " \n",
    "    def linear_search(self, value: int) -> int | None:\n",
    "        if self.is_empty():\n",
    "            print(\"Vector is empty!\")\n",
    "        for i in range(self.index + 1):\n",
    "            if value == self.values[i]:\n",
    "                return i\n",
    "        return -1\n",
    "    \n",
    "    def binary_search(self, value: int) -> None:\n",
    "        if self.is_empty():\n",
    "            print(\"Vector is empty\")\n",
    "            return\n",
    "        \n",
    "        lower = 0\n",
    "        upper = self.index\n",
    "\n",
    "        while lower <= upper:\n",
    "            midpoint = (lower + upper) // 2\n",
    "            \n",
    "            if value == self.values[midpoint]:\n",
    "                return midpoint\n",
    "            elif value < self.values[midpoint]:\n",
    "                upper = midpoint - 1\n",
    "            else:\n",
    "                lower = midpoint + 1\n",
    "\n",
    "            if midpoint == self.index or value == 0:\n",
    "                return -1\n",
    "        \n",
    "        return -1\n",
    "\n",
    "    \n",
    "    def remove(self, value: int) -> int | None:\n",
    "        if self.is_empty():\n",
    "            print(\"Vector is empty\")\n",
    "            return\n",
    "        \n",
    "        position = self.linear_search(value)\n",
    "        \n",
    "        if position == -1:\n",
    "            return -1\n",
    "\n",
    "        last_position = self.index\n",
    "\n",
    "        while position < last_position:\n",
    "            self.values[position] = self.values[position + 1]\n",
    "            position += 1\n",
    "        \n",
    "        self.index -= 1\n",
    "    \n",
    "    def __str__(self) -> str:\n",
    "        if self.is_empty():\n",
    "            return \"Vector is empty!\"\n",
    "        return \"[\" + \", \".join(f\"{self.values[i]}\" for i in range(self.index + 1)) + \"]\""
   ]
  },
  {
   "cell_type": "code",
   "execution_count": 73,
   "metadata": {},
   "outputs": [],
   "source": [
    "vector = OrderedVector(6)\n"
   ]
  },
  {
   "cell_type": "code",
   "execution_count": 74,
   "metadata": {},
   "outputs": [],
   "source": [
    "vector.insert(1)"
   ]
  },
  {
   "cell_type": "code",
   "execution_count": 75,
   "metadata": {},
   "outputs": [
    {
     "name": "stdout",
     "output_type": "stream",
     "text": [
      "[1]\n"
     ]
    }
   ],
   "source": [
    "print(vector)"
   ]
  },
  {
   "cell_type": "code",
   "execution_count": 76,
   "metadata": {},
   "outputs": [],
   "source": [
    "vector.insert(4)"
   ]
  },
  {
   "cell_type": "code",
   "execution_count": 77,
   "metadata": {},
   "outputs": [
    {
     "name": "stdout",
     "output_type": "stream",
     "text": [
      "[1, 4]\n"
     ]
    }
   ],
   "source": [
    "print(vector)"
   ]
  },
  {
   "cell_type": "code",
   "execution_count": 78,
   "metadata": {},
   "outputs": [],
   "source": [
    "vector.insert(5)"
   ]
  },
  {
   "cell_type": "code",
   "execution_count": 79,
   "metadata": {},
   "outputs": [
    {
     "name": "stdout",
     "output_type": "stream",
     "text": [
      "[1, 4, 5]\n"
     ]
    }
   ],
   "source": [
    "print(vector)"
   ]
  },
  {
   "cell_type": "code",
   "execution_count": 80,
   "metadata": {},
   "outputs": [],
   "source": [
    "vector.insert(3)"
   ]
  },
  {
   "cell_type": "code",
   "execution_count": 81,
   "metadata": {},
   "outputs": [
    {
     "name": "stdout",
     "output_type": "stream",
     "text": [
      "[1, 3, 4, 5]\n"
     ]
    }
   ],
   "source": [
    "print(vector)"
   ]
  },
  {
   "cell_type": "code",
   "execution_count": 82,
   "metadata": {},
   "outputs": [],
   "source": [
    "vector.insert(2)"
   ]
  },
  {
   "cell_type": "code",
   "execution_count": 83,
   "metadata": {},
   "outputs": [
    {
     "name": "stdout",
     "output_type": "stream",
     "text": [
      "[1, 2, 3, 4, 5]\n"
     ]
    }
   ],
   "source": [
    "print(vector)"
   ]
  },
  {
   "cell_type": "code",
   "execution_count": 84,
   "metadata": {},
   "outputs": [
    {
     "data": {
      "text/plain": [
       "4"
      ]
     },
     "execution_count": 84,
     "metadata": {},
     "output_type": "execute_result"
    }
   ],
   "source": [
    "vector.binary_search(5)"
   ]
  }
 ],
 "metadata": {
  "kernelspec": {
   "display_name": "Python 3",
   "language": "python",
   "name": "python3"
  },
  "language_info": {
   "codemirror_mode": {
    "name": "ipython",
    "version": 3
   },
   "file_extension": ".py",
   "mimetype": "text/x-python",
   "name": "python",
   "nbconvert_exporter": "python",
   "pygments_lexer": "ipython3",
   "version": "3.12.1"
  }
 },
 "nbformat": 4,
 "nbformat_minor": 2
}
