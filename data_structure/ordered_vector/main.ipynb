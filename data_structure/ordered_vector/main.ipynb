{
 "cells": [
  {
   "cell_type": "code",
   "execution_count": 1,
   "metadata": {},
   "outputs": [],
   "source": [
    "import numpy as np\n",
    "import numpy.typing as npt"
   ]
  },
  {
   "cell_type": "code",
   "execution_count": 2,
   "metadata": {},
   "outputs": [],
   "source": [
    "class OrderedVector:\n",
    "    def __init__(self, capacity: int) -> None:\n",
    "        self.index: int = -1\n",
    "        self.capacity: int = capacity\n",
    "        self.values: npt.ArrayLike = np.empty(self.capacity, dtype=int)\n",
    "    \n",
    "    def is_full(self) -> bool:\n",
    "        return self.index == (self.capacity - 1)\n",
    "    \n",
    "    def is_empty(self) -> bool:\n",
    "        return self.index == -1\n",
    "\n",
    "    def insert(self, value: int) -> None:\n",
    "        position = self.linear_search(value)\n",
    "\n",
    "        if position == -1:\n",
    "            self.values[0] = value\n",
    "            return\n",
    "\n",
    "        for i in range(position, self.index+1):\n",
    "            ...\n",
    "    \n",
    "    def linear_search(self, value: int) -> int | None:\n",
    "        if self.is_empty():\n",
    "            print(\"Vector is empty!\")\n",
    "        for i in range(self.index + 1):\n",
    "            if value == self.values[i]:\n",
    "                return i\n",
    "        return -1\n",
    "    \n",
    "    def binary_search(self) -> None:\n",
    "        ...\n",
    "    \n",
    "    def remove(self) -> None:\n",
    "        ...\n",
    "    \n",
    "    def __str__(self) -> str:\n",
    "        if self.is_empty():\n",
    "            print(\"Vector is empty!\")\n",
    "        return \"[\" + \",\".join(f\"{self.value[i]}\" for i in range(self.index)) + \"]\""
   ]
  },
  {
   "cell_type": "code",
   "execution_count": null,
   "metadata": {},
   "outputs": [],
   "source": []
  }
 ],
 "metadata": {
  "kernelspec": {
   "display_name": "Python 3",
   "language": "python",
   "name": "python3"
  },
  "language_info": {
   "codemirror_mode": {
    "name": "ipython",
    "version": 3
   },
   "file_extension": ".py",
   "mimetype": "text/x-python",
   "name": "python",
   "nbconvert_exporter": "python",
   "pygments_lexer": "ipython3",
   "version": "3.12.1"
  }
 },
 "nbformat": 4,
 "nbformat_minor": 2
}
