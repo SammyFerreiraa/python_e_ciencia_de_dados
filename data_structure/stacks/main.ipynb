{
 "cells": [
  {
   "cell_type": "code",
   "execution_count": 2,
   "metadata": {},
   "outputs": [],
   "source": [
    "import numpy as np\n",
    "import numpy.typing as npt"
   ]
  },
  {
   "cell_type": "code",
   "execution_count": 4,
   "metadata": {},
   "outputs": [],
   "source": [
    "class Stacks:\n",
    "    def __init__(self, capacity: int) -> None:\n",
    "        self.index: int = -1\n",
    "        self.capacity: int = capacity\n",
    "        self.values: npt.ArrayLike = np.empty(self.capacity, dtype=int)\n",
    "    \n",
    "    def stack_up(self, value: int) -> None:\n",
    "        self.index += 1\n",
    "        self.values[self.index] = value\n",
    "    \n",
    "    def unstack(self) -> None:\n",
    "        self.index -= 1\n",
    "    \n",
    "    def see_the_top(self):\n",
    "        value = self.values[self.index]\n",
    "        self.index -= 1\n",
    "        return value\n",
    "    \n",
    "    def __str__(self) -> str:\n",
    "        return \"[\" + \", \".join(f\"{self.values[i]}\" for i in range(self.index + 1)) + \"]\""
   ]
  },
  {
   "cell_type": "code",
   "execution_count": 5,
   "metadata": {},
   "outputs": [],
   "source": [
    "stacks = Stacks(5)"
   ]
  },
  {
   "cell_type": "code",
   "execution_count": 6,
   "metadata": {},
   "outputs": [],
   "source": [
    "stacks.stack_up(1)"
   ]
  },
  {
   "cell_type": "code",
   "execution_count": 7,
   "metadata": {},
   "outputs": [
    {
     "name": "stdout",
     "output_type": "stream",
     "text": [
      "[1]\n"
     ]
    }
   ],
   "source": [
    "print(stacks)"
   ]
  },
  {
   "cell_type": "code",
   "execution_count": null,
   "metadata": {},
   "outputs": [],
   "source": []
  }
 ],
 "metadata": {
  "kernelspec": {
   "display_name": "Python 3",
   "language": "python",
   "name": "python3"
  },
  "language_info": {
   "codemirror_mode": {
    "name": "ipython",
    "version": 3
   },
   "file_extension": ".py",
   "mimetype": "text/x-python",
   "name": "python",
   "nbconvert_exporter": "python",
   "pygments_lexer": "ipython3",
   "version": "3.12.1"
  }
 },
 "nbformat": 4,
 "nbformat_minor": 2
}
