{
 "cells": [
  {
   "cell_type": "code",
   "execution_count": 29,
   "metadata": {},
   "outputs": [],
   "source": [
    "import numpy as np\n",
    "import numpy.typing as npt"
   ]
  },
  {
   "cell_type": "code",
   "execution_count": 30,
   "metadata": {},
   "outputs": [],
   "source": [
    "class Deck:\n",
    "    def __init__(self, capacity: int) -> None:\n",
    "        self.capacity: int = capacity\n",
    "        self.start: int = -1\n",
    "        self.end: int = 0\n",
    "        self.size: int = 0\n",
    "        self.values: npt.NDArray = np.empty(capacity, dtype=int)\n",
    "    \n",
    "    def is_empty(self) -> bool:\n",
    "        return self.size == 0\n",
    "\n",
    "    def is_full(self) -> bool:\n",
    "        return self.size == self.capacity\n",
    "    \n",
    "    def add_start(self, value: int) -> None:\n",
    "        if self.is_full():\n",
    "            print(\"Deck is full\")\n",
    "            return\n",
    "        \n",
    "        if self.is_empty():\n",
    "            self.start = 0\n",
    "            self.end = 0\n",
    "        elif self.start == 0:\n",
    "            self.start = self.capacity - 1\n",
    "        else:\n",
    "            self.start -= 1\n",
    "        \n",
    "        self.values[self.start] = value\n",
    "        self.size += 1\n",
    "    \n",
    "    def add_end(self, value: int):\n",
    "        if self.is_full():\n",
    "            print(\"Deck is full\")\n",
    "            return\n",
    "        \n",
    "        if self.is_empty():\n",
    "            self.start = 0\n",
    "            self.end = 0\n",
    "        elif self.end == self.capacity - 1:\n",
    "            self.end = 0\n",
    "        else:\n",
    "            self.end += 1\n",
    "        \n",
    "        self.values[self.end] = value\n",
    "        self.size += 1\n",
    "    \n",
    "    def remove_start(self) -> None:\n",
    "        if self.is_empty():\n",
    "            print(\"Deck is empty\")\n",
    "            return\n",
    "        \n",
    "        if self.start == self.end:\n",
    "            self.start = -1\n",
    "            self.end = -1\n",
    "        else:\n",
    "            if self.start == self.capacity - 1:\n",
    "                self.start = 0\n",
    "            else:\n",
    "                self.start += 1\n",
    "        \n",
    "        self.size -= 1\n",
    "    \n",
    "    def remove_end(self) -> None:\n",
    "        if self.is_empty():\n",
    "            print(\"Deck is empty\")\n",
    "            return\n",
    "        \n",
    "        if self.start == self.end:\n",
    "            self.start = -1\n",
    "            self.end = -1\n",
    "        elif self.end == 0:\n",
    "            self.end = self.capacity - 1\n",
    "        else:\n",
    "            self.end -= 1\n",
    "        \n",
    "        self.size -= 1\n",
    "    \n",
    "    def get_start(self) -> int | None:\n",
    "        if self.is_empty():\n",
    "            print(\"Deck is empty\")\n",
    "            return\n",
    "        \n",
    "        return self.values[self.start]\n",
    "    \n",
    "    def get_end(self) -> int | None:\n",
    "        if self.is_empty():\n",
    "            print(\"Deck is empty\")\n",
    "            return\n",
    "        \n",
    "        return self.values[self.end]"
   ]
  },
  {
   "cell_type": "code",
   "execution_count": 31,
   "metadata": {},
   "outputs": [],
   "source": [
    "d = Deck(5)"
   ]
  },
  {
   "cell_type": "code",
   "execution_count": 32,
   "metadata": {},
   "outputs": [],
   "source": [
    "d.add_end(5)\n",
    "d.add_end(10)\n",
    "d.add_end(11)\n",
    "d.add_start(3)\n",
    "d.add_start(2)"
   ]
  },
  {
   "cell_type": "code",
   "execution_count": 36,
   "metadata": {},
   "outputs": [],
   "source": [
    "d.remove_start()"
   ]
  },
  {
   "cell_type": "code",
   "execution_count": 38,
   "metadata": {},
   "outputs": [],
   "source": [
    "d.remove_end()"
   ]
  },
  {
   "cell_type": "code",
   "execution_count": 39,
   "metadata": {},
   "outputs": [
    {
     "data": {
      "text/plain": [
       "(3, 10)"
      ]
     },
     "execution_count": 39,
     "metadata": {},
     "output_type": "execute_result"
    }
   ],
   "source": [
    "d.get_start(), d.get_end()"
   ]
  },
  {
   "cell_type": "code",
   "execution_count": null,
   "metadata": {},
   "outputs": [],
   "source": []
  }
 ],
 "metadata": {
  "kernelspec": {
   "display_name": "Python 3",
   "language": "python",
   "name": "python3"
  },
  "language_info": {
   "codemirror_mode": {
    "name": "ipython",
    "version": 3
   },
   "file_extension": ".py",
   "mimetype": "text/x-python",
   "name": "python",
   "nbconvert_exporter": "python",
   "pygments_lexer": "ipython3",
   "version": "3.12.1"
  }
 },
 "nbformat": 4,
 "nbformat_minor": 2
}
