{
 "cells": [
  {
   "cell_type": "code",
   "execution_count": 1,
   "metadata": {},
   "outputs": [],
   "source": [
    "import numpy as np\n",
    "import numpy.typing as npt"
   ]
  },
  {
   "cell_type": "code",
   "execution_count": 2,
   "metadata": {},
   "outputs": [],
   "source": [
    "class Stack:\n",
    "    def __init__(self, capacity: int) -> None:\n",
    "        self.top: int = -1\n",
    "        self.capacity: int = capacity\n",
    "        self.values: npt.ArrayLike = np.empty(capacity, dtype=int)\n",
    "    \n",
    "    def is_full(self) -> bool:\n",
    "        return self.top == self.capacity - 1\n",
    "    \n",
    "    def is_empty(self) -> bool:\n",
    "        return self.top == -1\n",
    "\n",
    "    def push(self, value: int) -> None:\n",
    "        if self.is_full():\n",
    "            print(\"Stack is full!\")\n",
    "            return\n",
    "\n",
    "        self.top += 1\n",
    "        self.values[self.top] = value\n",
    "    \n",
    "    def pop(self) -> None:\n",
    "        self.top -= 1\n",
    "    \n",
    "    def show_top(self) -> int:\n",
    "        return self.values[self.top]\n",
    "    \n",
    "    def __str__(self) -> str:\n",
    "        return \"[\" + \", \".join(str(self.values[i]) for i in range(self.top + 1)) + \"]\""
   ]
  },
  {
   "cell_type": "code",
   "execution_count": 3,
   "metadata": {},
   "outputs": [],
   "source": [
    "stack = Stack(5)"
   ]
  },
  {
   "cell_type": "code",
   "execution_count": 4,
   "metadata": {},
   "outputs": [],
   "source": [
    "stack.push(1)\n",
    "stack.push(3)\n",
    "stack.push(6)\n",
    "stack.push(8)\n",
    "stack.push(2)"
   ]
  },
  {
   "cell_type": "code",
   "execution_count": 5,
   "metadata": {},
   "outputs": [
    {
     "data": {
      "text/plain": [
       "2"
      ]
     },
     "execution_count": 5,
     "metadata": {},
     "output_type": "execute_result"
    }
   ],
   "source": [
    "stack.show_top()"
   ]
  },
  {
   "cell_type": "code",
   "execution_count": 6,
   "metadata": {},
   "outputs": [],
   "source": [
    "stack.pop()"
   ]
  },
  {
   "cell_type": "code",
   "execution_count": 7,
   "metadata": {},
   "outputs": [
    {
     "name": "stdout",
     "output_type": "stream",
     "text": [
      "[1, 3, 6, 8]\n"
     ]
    }
   ],
   "source": [
    "print(stack)"
   ]
  }
 ],
 "metadata": {
  "kernelspec": {
   "display_name": "Python 3",
   "language": "python",
   "name": "python3"
  },
  "language_info": {
   "codemirror_mode": {
    "name": "ipython",
    "version": 3
   },
   "file_extension": ".py",
   "mimetype": "text/x-python",
   "name": "python",
   "nbconvert_exporter": "python",
   "pygments_lexer": "ipython3",
   "version": "3.12.1"
  }
 },
 "nbformat": 4,
 "nbformat_minor": 2
}
