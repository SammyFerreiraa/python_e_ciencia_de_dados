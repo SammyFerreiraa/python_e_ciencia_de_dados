{
 "cells": [
  {
   "cell_type": "code",
   "execution_count": 98,
   "metadata": {},
   "outputs": [],
   "source": [
    "import numpy as np\n",
    "import numpy.typing as npt\n",
    "import re"
   ]
  },
  {
   "cell_type": "code",
   "execution_count": 99,
   "metadata": {},
   "outputs": [],
   "source": [
    "class Stack:\n",
    "    def __init__(self, capacity: int) -> None:\n",
    "        self.index: int = -1\n",
    "        self.capacity: int = capacity\n",
    "        self.values: npt.ArrayLike = np.empty(self.capacity, dtype=str)\n",
    "    \n",
    "    def is_full(self) -> bool:\n",
    "        return self.index == (self.capacity - 1)\n",
    "    \n",
    "    def is_empty(self) -> bool:\n",
    "        return self.index == -1\n",
    "    \n",
    "    def push(self, value: int) -> None:\n",
    "        if self.is_full():\n",
    "            print(\"Stack is full.\")\n",
    "            return\n",
    "        self.index += 1\n",
    "        self.values[self.index] = value\n",
    "    \n",
    "    def pop(self) -> None:\n",
    "        if self.is_empty():\n",
    "            print(\"Stack is empty.\")\n",
    "        self.index -= 1\n",
    "    \n",
    "    def __str__(self) -> str:\n",
    "        return  \"[\" + \", \".join(f\"{self.values[i]}\" for i in range(self.index + 1)) + \"]\""
   ]
  },
  {
   "cell_type": "code",
   "execution_count": 100,
   "metadata": {},
   "outputs": [],
   "source": [
    "insert_value = [\"{\", \"(\", \"[\"]\n",
    "delete_value = [\"}\", \")\", \"]\"]"
   ]
  },
  {
   "cell_type": "code",
   "execution_count": 101,
   "metadata": {},
   "outputs": [],
   "source": [
    "def analysis_expression():\n",
    "    expression = input(\"Insert your expression: \")\n",
    "    list_expression = re.split(r\"[a-zA-Z+\\-*/=]\", expression)\n",
    "    cleaned_expression = list(filter(bool, list_expression))\n",
    "\n",
    "    print(cleaned_expression)\n",
    "\n",
    "    stack = Stack(len(cleaned_expression))\n",
    "    \n",
    "    for expression in cleaned_expression:\n",
    "        if expression in insert_value:\n",
    "            stack.push(expression)\n",
    "        \n",
    "        if expression in delete_value:\n",
    "            stack.pop()\n",
    "    \n",
    "    if stack.index == -1:\n",
    "        return \"Expression is correct.\"\n",
    "    else:\n",
    "        return \"Expression is incorrect.\""
   ]
  },
  {
   "cell_type": "code",
   "execution_count": 102,
   "metadata": {},
   "outputs": [
    {
     "ename": "TypeError",
     "evalue": "sub() missing 1 required positional argument: 'string'",
     "output_type": "error",
     "traceback": [
      "\u001b[1;31m---------------------------------------------------------------------------\u001b[0m",
      "\u001b[1;31mTypeError\u001b[0m                                 Traceback (most recent call last)",
      "Cell \u001b[1;32mIn[102], line 1\u001b[0m\n\u001b[1;32m----> 1\u001b[0m \u001b[38;5;28mprint\u001b[39m(\u001b[43manalysis_expression\u001b[49m\u001b[43m(\u001b[49m\u001b[43m)\u001b[49m)\n",
      "Cell \u001b[1;32mIn[101], line 4\u001b[0m, in \u001b[0;36manalysis_expression\u001b[1;34m()\u001b[0m\n\u001b[0;32m      2\u001b[0m expression \u001b[38;5;241m=\u001b[39m \u001b[38;5;28minput\u001b[39m(\u001b[38;5;124m\"\u001b[39m\u001b[38;5;124mInsert your expression: \u001b[39m\u001b[38;5;124m\"\u001b[39m)\n\u001b[0;32m      3\u001b[0m list_expression \u001b[38;5;241m=\u001b[39m re\u001b[38;5;241m.\u001b[39msplit(\u001b[38;5;124mr\u001b[39m\u001b[38;5;124m\"\u001b[39m\u001b[38;5;124m[a-zA-Z+\u001b[39m\u001b[38;5;124m\\\u001b[39m\u001b[38;5;124m-*/=]\u001b[39m\u001b[38;5;124m\"\u001b[39m, expression)\n\u001b[1;32m----> 4\u001b[0m cleaned_expression \u001b[38;5;241m=\u001b[39m \u001b[43mre\u001b[49m\u001b[38;5;241;43m.\u001b[39;49m\u001b[43msub\u001b[49m\u001b[43m(\u001b[49m\u001b[38;5;28;43mlist\u001b[39;49m\u001b[43m(\u001b[49m\u001b[38;5;28;43mfilter\u001b[39;49m\u001b[43m(\u001b[49m\u001b[38;5;28;43mbool\u001b[39;49m\u001b[43m,\u001b[49m\u001b[43m \u001b[49m\u001b[43mlist_expression\u001b[49m\u001b[43m)\u001b[49m\u001b[43m)\u001b[49m\u001b[43m,\u001b[49m\u001b[43m \u001b[49m\u001b[43mlist_expression\u001b[49m\u001b[43m)\u001b[49m\n\u001b[0;32m      6\u001b[0m \u001b[38;5;28mprint\u001b[39m(cleaned_expression)\n\u001b[0;32m      8\u001b[0m stack \u001b[38;5;241m=\u001b[39m Stack(\u001b[38;5;28mlen\u001b[39m(cleaned_expression))\n",
      "\u001b[1;31mTypeError\u001b[0m: sub() missing 1 required positional argument: 'string'"
     ]
    }
   ],
   "source": [
    "print(analysis_expression())"
   ]
  }
 ],
 "metadata": {
  "kernelspec": {
   "display_name": "Python 3",
   "language": "python",
   "name": "python3"
  },
  "language_info": {
   "codemirror_mode": {
    "name": "ipython",
    "version": 3
   },
   "file_extension": ".py",
   "mimetype": "text/x-python",
   "name": "python",
   "nbconvert_exporter": "python",
   "pygments_lexer": "ipython3",
   "version": "3.12.1"
  }
 },
 "nbformat": 4,
 "nbformat_minor": 2
}
