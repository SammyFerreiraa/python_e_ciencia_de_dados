{
 "cells": [
  {
   "cell_type": "code",
   "execution_count": 6,
   "metadata": {},
   "outputs": [],
   "source": [
    "import numpy as np\n",
    "import numpy.typing as npt"
   ]
  },
  {
   "cell_type": "code",
   "execution_count": 7,
   "metadata": {},
   "outputs": [],
   "source": [
    "class Stack:\n",
    "    def __init__(self, capacity: int) -> None:\n",
    "        self.__top: int = -1\n",
    "        self.__capacity: int = capacity\n",
    "        self.__values: npt.ArrayLike = np.empty(capacity, dtype=int)\n",
    "    \n",
    "    def __is_full(self) -> bool:\n",
    "        return self.__top == self.__capacity - 1\n",
    "    \n",
    "    def __is_empty(self) -> bool:\n",
    "        return self.__top == -1\n",
    "    \n",
    "    def push(self, value: int) -> None:\n",
    "        if self.__is_full():\n",
    "            print(\"Stack is full\")\n",
    "            return\n",
    "        self.__top += 1\n",
    "        self.__values[self.__top] = value\n",
    "    \n",
    "    def pop(self) -> None:\n",
    "        if self.__is_empty():\n",
    "            print(\"Stack is empty\")\n",
    "            return\n",
    "        self.__top -= 1\n",
    "    \n",
    "    def show_top(self) -> int:\n",
    "        return self.__values[self.__top]\n",
    "    \n",
    "    def __str__(self) -> str:\n",
    "        return \"[\" + \", \".join(str(self.__values[i]) for i in range(self.__top + 1)) + \"]\""
   ]
  },
  {
   "cell_type": "code",
   "execution_count": 8,
   "metadata": {},
   "outputs": [],
   "source": [
    "def validator(expression: str):\n",
    "    symbols = []\n",
    "    for value in expression:\n",
    "        if value in [\"[\", \"{\", \"(\"]:\n",
    "            symbols.append(value)\n",
    "    \n",
    "    stack = Stack(len(symbols))"
   ]
  }
 ],
 "metadata": {
  "kernelspec": {
   "display_name": "Python 3",
   "language": "python",
   "name": "python3"
  },
  "language_info": {
   "codemirror_mode": {
    "name": "ipython",
    "version": 3
   },
   "file_extension": ".py",
   "mimetype": "text/x-python",
   "name": "python",
   "nbconvert_exporter": "python",
   "pygments_lexer": "ipython3",
   "version": "3.12.1"
  }
 },
 "nbformat": 4,
 "nbformat_minor": 2
}
