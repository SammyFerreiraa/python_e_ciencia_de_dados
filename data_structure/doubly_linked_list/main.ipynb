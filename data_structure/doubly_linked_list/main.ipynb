{
 "cells": [
  {
   "cell_type": "code",
   "execution_count": 35,
   "metadata": {},
   "outputs": [],
   "source": [
    "class Node:\n",
    "    def __init__(self, value: int) -> None:\n",
    "        self.value: int = value\n",
    "        self.next: Node | None = None\n",
    "        self.prev: Node | None = None\n",
    "    \n",
    "    def __str__(self) -> str:\n",
    "        return str(self.value)"
   ]
  },
  {
   "cell_type": "code",
   "execution_count": 36,
   "metadata": {},
   "outputs": [],
   "source": [
    "class DoublyLinkedList:\n",
    "    def __init__(self) -> None:\n",
    "        self.head: Node | None = None\n",
    "        self.tail: Node | None = None\n",
    "    \n",
    "    def __is_empty(self) -> bool:\n",
    "        return self.head is None\n",
    "    \n",
    "    def add_start(self, value: int) -> None:\n",
    "        node: Node = Node(value)\n",
    "\n",
    "        if self.__is_empty():\n",
    "            self.tail = node\n",
    "        else:\n",
    "            self.head.prev = node\n",
    "        \n",
    "        node.next = self.head\n",
    "        self.head = node\n",
    "    \n",
    "    def add_end(self, value: int) -> None:\n",
    "        node: Node = Node(value)\n",
    "\n",
    "        if self.__is_empty():\n",
    "            self.head = node\n",
    "        else:\n",
    "            self.tail.next = node\n",
    "            node.prev = self.tail\n",
    "        \n",
    "        self.tail = node\n",
    "    \n",
    "    def show_tail(self) -> str:\n",
    "        if self.__is_empty():\n",
    "            return \"The list is empty!\"\n",
    "        current = self.tail\n",
    "        result = []\n",
    "        while current is not None:\n",
    "            result.append(str(current))\n",
    "            current = current.prev\n",
    "        return f\"[{', '.join(result)}]\"\n",
    "    \n",
    "    def __str__(self) -> str:\n",
    "        if self.__is_empty():\n",
    "            return \"The list is empty!\"\n",
    "        current = self.head\n",
    "        result = []\n",
    "        while current is not None:\n",
    "            result.append(str(current))\n",
    "            current = current.next\n",
    "        return f\"[{', '.join(result)}]\""
   ]
  },
  {
   "cell_type": "code",
   "execution_count": 37,
   "metadata": {},
   "outputs": [],
   "source": [
    "l = DoublyLinkedList()"
   ]
  },
  {
   "cell_type": "code",
   "execution_count": 38,
   "metadata": {},
   "outputs": [],
   "source": [
    "l.add_start(1)\n",
    "l.add_start(3)\n",
    "l.add_start(4)\n",
    "l.add_start(5)"
   ]
  },
  {
   "cell_type": "code",
   "execution_count": 39,
   "metadata": {},
   "outputs": [],
   "source": [
    "l.add_end(8)\n",
    "l.add_end(9)\n",
    "l.add_end(20)\n",
    "l.add_end(7)"
   ]
  },
  {
   "cell_type": "code",
   "execution_count": 40,
   "metadata": {},
   "outputs": [
    {
     "name": "stdout",
     "output_type": "stream",
     "text": [
      "[5, 4, 3, 1, 8, 9, 20, 7]\n"
     ]
    }
   ],
   "source": [
    "print(l)"
   ]
  },
  {
   "cell_type": "code",
   "execution_count": 41,
   "metadata": {},
   "outputs": [
    {
     "name": "stdout",
     "output_type": "stream",
     "text": [
      "[7, 20, 9, 8, 1, 3, 4, 5]\n"
     ]
    }
   ],
   "source": [
    "print(l.show_tail())"
   ]
  }
 ],
 "metadata": {
  "kernelspec": {
   "display_name": "Python 3",
   "language": "python",
   "name": "python3"
  },
  "language_info": {
   "codemirror_mode": {
    "name": "ipython",
    "version": 3
   },
   "file_extension": ".py",
   "mimetype": "text/x-python",
   "name": "python",
   "nbconvert_exporter": "python",
   "pygments_lexer": "ipython3",
   "version": "3.12.1"
  }
 },
 "nbformat": 4,
 "nbformat_minor": 2
}
