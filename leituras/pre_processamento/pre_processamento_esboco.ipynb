{
 "cells": [
  {
   "cell_type": "markdown",
   "id": "ebbb8e60",
   "metadata": {},
   "source": [
    "## Transformar de forma correta os tipos das variáveis do df\n",
    "### Processamento de dados é um método cíclico"
   ]
  },
  {
   "cell_type": "code",
   "execution_count": 1,
   "id": "3fb71873",
   "metadata": {},
   "outputs": [],
   "source": [
    "# importar a biblioteca responsável pela tranformação dos dados\n",
    "import pandas as pd"
   ]
  },
  {
   "cell_type": "code",
   "execution_count": 2,
   "id": "af3ab679",
   "metadata": {
    "scrolled": true
   },
   "outputs": [],
   "source": [
    "# Lendo o arquivo em formato csv\n",
    "# Os dados foram criados pelo chatGPT, e são fictícios e representam um conjunto de informações \n",
    "# sobre funcionários de uma empresa\n",
    "\n",
    "df_employees = pd.read_csv(r\"C:\\Users\\ruben\\OneDrive\\01. estudo\\02_ciencia_de_dados\\leituras\\pre_processamento\\base\\data_01_employees.csv\")"
   ]
  },
  {
   "cell_type": "code",
   "execution_count": 3,
   "id": "96f71198",
   "metadata": {},
   "outputs": [
    {
     "data": {
      "text/html": [
       "<div>\n",
       "<style scoped>\n",
       "    .dataframe tbody tr th:only-of-type {\n",
       "        vertical-align: middle;\n",
       "    }\n",
       "\n",
       "    .dataframe tbody tr th {\n",
       "        vertical-align: top;\n",
       "    }\n",
       "\n",
       "    .dataframe thead th {\n",
       "        text-align: right;\n",
       "    }\n",
       "</style>\n",
       "<table border=\"1\" class=\"dataframe\">\n",
       "  <thead>\n",
       "    <tr style=\"text-align: right;\">\n",
       "      <th></th>\n",
       "      <th>ID</th>\n",
       "      <th>Name</th>\n",
       "      <th>Age</th>\n",
       "      <th>JoinDate</th>\n",
       "      <th>Salary</th>\n",
       "      <th>Department</th>\n",
       "    </tr>\n",
       "  </thead>\n",
       "  <tbody>\n",
       "    <tr>\n",
       "      <th>0</th>\n",
       "      <td>1</td>\n",
       "      <td>Person_1</td>\n",
       "      <td>29</td>\n",
       "      <td>2022-06-01</td>\n",
       "      <td>101261.35</td>\n",
       "      <td>Marketing</td>\n",
       "    </tr>\n",
       "    <tr>\n",
       "      <th>1</th>\n",
       "      <td>2</td>\n",
       "      <td>Person_2</td>\n",
       "      <td>43</td>\n",
       "      <td>2020-08-23</td>\n",
       "      <td>90128.90</td>\n",
       "      <td>Finance</td>\n",
       "    </tr>\n",
       "    <tr>\n",
       "      <th>2</th>\n",
       "      <td>3</td>\n",
       "      <td>Person_3</td>\n",
       "      <td>28</td>\n",
       "      <td>2021-06-10</td>\n",
       "      <td>56290.12</td>\n",
       "      <td>Marketing</td>\n",
       "    </tr>\n",
       "    <tr>\n",
       "      <th>3</th>\n",
       "      <td>4</td>\n",
       "      <td>Person_4</td>\n",
       "      <td>59</td>\n",
       "      <td>2022-03-09</td>\n",
       "      <td>35134.81</td>\n",
       "      <td>Finance</td>\n",
       "    </tr>\n",
       "    <tr>\n",
       "      <th>4</th>\n",
       "      <td>5</td>\n",
       "      <td>Person_5</td>\n",
       "      <td>61</td>\n",
       "      <td>2021-01-30</td>\n",
       "      <td>55107.54</td>\n",
       "      <td>Sales</td>\n",
       "    </tr>\n",
       "  </tbody>\n",
       "</table>\n",
       "</div>"
      ],
      "text/plain": [
       "   ID      Name  Age    JoinDate     Salary Department\n",
       "0   1  Person_1   29  2022-06-01  101261.35  Marketing\n",
       "1   2  Person_2   43  2020-08-23   90128.90    Finance\n",
       "2   3  Person_3   28  2021-06-10   56290.12  Marketing\n",
       "3   4  Person_4   59  2022-03-09   35134.81    Finance\n",
       "4   5  Person_5   61  2021-01-30   55107.54      Sales"
      ]
     },
     "execution_count": 3,
     "metadata": {},
     "output_type": "execute_result"
    }
   ],
   "source": [
    "# Visualizando as 5 primeiras linhas\n",
    "\n",
    "df_employees.head()"
   ]
  },
  {
   "cell_type": "code",
   "execution_count": 4,
   "id": "4b5a7d19",
   "metadata": {},
   "outputs": [
    {
     "name": "stdout",
     "output_type": "stream",
     "text": [
      "<class 'pandas.core.frame.DataFrame'>\n",
      "RangeIndex: 50 entries, 0 to 49\n",
      "Data columns (total 6 columns):\n",
      " #   Column      Non-Null Count  Dtype  \n",
      "---  ------      --------------  -----  \n",
      " 0   ID          50 non-null     int64  \n",
      " 1   Name        50 non-null     object \n",
      " 2   Age         50 non-null     int64  \n",
      " 3   JoinDate    50 non-null     object \n",
      " 4   Salary      50 non-null     float64\n",
      " 5   Department  50 non-null     object \n",
      "dtypes: float64(1), int64(2), object(3)\n",
      "memory usage: 2.5+ KB\n"
     ]
    }
   ],
   "source": [
    "# Visualizando um quadro geral das colunas e os seus tipos\n",
    "\n",
    "df_employees.info()"
   ]
  },
  {
   "cell_type": "code",
   "execution_count": 5,
   "id": "6aae386f",
   "metadata": {},
   "outputs": [],
   "source": [
    "for column in df_employees.columns:\n",
    "    if df_employees[column].dtypes == \"object\":\n",
    "        if column == \"JoinDate\":\n",
    "            df_employees[column] = pd.to_datetime(df_employees[column])"
   ]
  },
  {
   "cell_type": "code",
   "execution_count": 6,
   "id": "b2f1504e",
   "metadata": {},
   "outputs": [
    {
     "name": "stdout",
     "output_type": "stream",
     "text": [
      "<class 'pandas.core.frame.DataFrame'>\n",
      "RangeIndex: 50 entries, 0 to 49\n",
      "Data columns (total 6 columns):\n",
      " #   Column      Non-Null Count  Dtype         \n",
      "---  ------      --------------  -----         \n",
      " 0   ID          50 non-null     int64         \n",
      " 1   Name        50 non-null     object        \n",
      " 2   Age         50 non-null     int64         \n",
      " 3   JoinDate    50 non-null     datetime64[ns]\n",
      " 4   Salary      50 non-null     float64       \n",
      " 5   Department  50 non-null     object        \n",
      "dtypes: datetime64[ns](1), float64(1), int64(2), object(2)\n",
      "memory usage: 2.5+ KB\n"
     ]
    }
   ],
   "source": [
    "df_employees.info()"
   ]
  },
  {
   "cell_type": "markdown",
   "id": "048c2ed7",
   "metadata": {},
   "source": [
    "### Fim do estudo"
   ]
  },
  {
   "cell_type": "markdown",
   "id": "27683042",
   "metadata": {},
   "source": [
    "## Análise gráfica do df -> Identificar alguma inconsistência dos dados"
   ]
  },
  {
   "cell_type": "code",
   "execution_count": 39,
   "id": "a7027fda",
   "metadata": {},
   "outputs": [],
   "source": [
    "df_employees_02 = pd.read_csv(r\"C:\\Users\\ruben\\OneDrive\\01. estudo\\02_ciencia_de_dados\\leituras\\pre_processamento\\base\\data_02_employees.csv\")"
   ]
  },
  {
   "cell_type": "code",
   "execution_count": 40,
   "id": "0592d24c",
   "metadata": {},
   "outputs": [
    {
     "data": {
      "text/html": [
       "<div>\n",
       "<style scoped>\n",
       "    .dataframe tbody tr th:only-of-type {\n",
       "        vertical-align: middle;\n",
       "    }\n",
       "\n",
       "    .dataframe tbody tr th {\n",
       "        vertical-align: top;\n",
       "    }\n",
       "\n",
       "    .dataframe thead th {\n",
       "        text-align: right;\n",
       "    }\n",
       "</style>\n",
       "<table border=\"1\" class=\"dataframe\">\n",
       "  <thead>\n",
       "    <tr style=\"text-align: right;\">\n",
       "      <th></th>\n",
       "      <th>ID</th>\n",
       "      <th>Name</th>\n",
       "      <th>Age</th>\n",
       "      <th>JoinDate</th>\n",
       "      <th>Salary</th>\n",
       "      <th>Department</th>\n",
       "      <th>PerformanceScore</th>\n",
       "    </tr>\n",
       "  </thead>\n",
       "  <tbody>\n",
       "    <tr>\n",
       "      <th>0</th>\n",
       "      <td>1</td>\n",
       "      <td>Person_1</td>\n",
       "      <td>55.0</td>\n",
       "      <td>2020-07-11</td>\n",
       "      <td>105242.52</td>\n",
       "      <td>Finance</td>\n",
       "      <td>9</td>\n",
       "    </tr>\n",
       "    <tr>\n",
       "      <th>1</th>\n",
       "      <td>2</td>\n",
       "      <td>Person_2</td>\n",
       "      <td>59.0</td>\n",
       "      <td>2021-03-31</td>\n",
       "      <td>98702.87</td>\n",
       "      <td>Marketing</td>\n",
       "      <td>6</td>\n",
       "    </tr>\n",
       "    <tr>\n",
       "      <th>2</th>\n",
       "      <td>3</td>\n",
       "      <td>Person_3</td>\n",
       "      <td>27.0</td>\n",
       "      <td>2022-04-29</td>\n",
       "      <td>109172.15</td>\n",
       "      <td>Sales</td>\n",
       "      <td>6</td>\n",
       "    </tr>\n",
       "    <tr>\n",
       "      <th>3</th>\n",
       "      <td>4</td>\n",
       "      <td>Person_4</td>\n",
       "      <td>48.0</td>\n",
       "      <td>2022-03-19</td>\n",
       "      <td>41505.58</td>\n",
       "      <td>IT</td>\n",
       "      <td>10</td>\n",
       "    </tr>\n",
       "    <tr>\n",
       "      <th>4</th>\n",
       "      <td>5</td>\n",
       "      <td>Person_5</td>\n",
       "      <td>36.0</td>\n",
       "      <td>2022-10-10</td>\n",
       "      <td>49160.80</td>\n",
       "      <td>Sales</td>\n",
       "      <td>4</td>\n",
       "    </tr>\n",
       "  </tbody>\n",
       "</table>\n",
       "</div>"
      ],
      "text/plain": [
       "   ID      Name   Age    JoinDate     Salary Department  PerformanceScore\n",
       "0   1  Person_1  55.0  2020-07-11  105242.52    Finance                 9\n",
       "1   2  Person_2  59.0  2021-03-31   98702.87  Marketing                 6\n",
       "2   3  Person_3  27.0  2022-04-29  109172.15      Sales                 6\n",
       "3   4  Person_4  48.0  2022-03-19   41505.58         IT                10\n",
       "4   5  Person_5  36.0  2022-10-10   49160.80      Sales                 4"
      ]
     },
     "execution_count": 40,
     "metadata": {},
     "output_type": "execute_result"
    }
   ],
   "source": [
    "df_employees_02.head()"
   ]
  },
  {
   "cell_type": "code",
   "execution_count": 46,
   "id": "5058080a",
   "metadata": {},
   "outputs": [
    {
     "data": {
      "text/plain": [
       "(100, 7)"
      ]
     },
     "execution_count": 46,
     "metadata": {},
     "output_type": "execute_result"
    }
   ],
   "source": [
    "df_employees_02.shape"
   ]
  },
  {
   "cell_type": "code",
   "execution_count": 53,
   "id": "7e3d4bf9",
   "metadata": {},
   "outputs": [
    {
     "data": {
      "text/html": [
       "<div>\n",
       "<style scoped>\n",
       "    .dataframe tbody tr th:only-of-type {\n",
       "        vertical-align: middle;\n",
       "    }\n",
       "\n",
       "    .dataframe tbody tr th {\n",
       "        vertical-align: top;\n",
       "    }\n",
       "\n",
       "    .dataframe thead th {\n",
       "        text-align: right;\n",
       "    }\n",
       "</style>\n",
       "<table border=\"1\" class=\"dataframe\">\n",
       "  <thead>\n",
       "    <tr style=\"text-align: right;\">\n",
       "      <th></th>\n",
       "      <th>Department</th>\n",
       "      <th>ID</th>\n",
       "    </tr>\n",
       "  </thead>\n",
       "  <tbody>\n",
       "    <tr>\n",
       "      <th>0</th>\n",
       "      <td>Finance</td>\n",
       "      <td>23</td>\n",
       "    </tr>\n",
       "    <tr>\n",
       "      <th>1</th>\n",
       "      <td>HR</td>\n",
       "      <td>29</td>\n",
       "    </tr>\n",
       "    <tr>\n",
       "      <th>2</th>\n",
       "      <td>IT</td>\n",
       "      <td>16</td>\n",
       "    </tr>\n",
       "    <tr>\n",
       "      <th>3</th>\n",
       "      <td>Marketing</td>\n",
       "      <td>17</td>\n",
       "    </tr>\n",
       "    <tr>\n",
       "      <th>4</th>\n",
       "      <td>Sales</td>\n",
       "      <td>15</td>\n",
       "    </tr>\n",
       "  </tbody>\n",
       "</table>\n",
       "</div>"
      ],
      "text/plain": [
       "  Department  ID\n",
       "0    Finance  23\n",
       "1         HR  29\n",
       "2         IT  16\n",
       "3  Marketing  17\n",
       "4      Sales  15"
      ]
     },
     "execution_count": 53,
     "metadata": {},
     "output_type": "execute_result"
    }
   ],
   "source": [
    "df_agrupamento_departamento = df_employees_02.groupby(\"Department\").agg({\"ID\": \"count\"}).reset_index()\n",
    "df_agrupamento_departamento"
   ]
  },
  {
   "cell_type": "code",
   "execution_count": 54,
   "id": "428b950a",
   "metadata": {},
   "outputs": [
    {
     "data": {
      "text/plain": [
       "<Axes: xlabel='Department', ylabel='ID'>"
      ]
     },
     "execution_count": 54,
     "metadata": {},
     "output_type": "execute_result"
    },
    {
     "data": {
      "image/png": "[encoded data removed]",
      "text/plain": [
       "<Figure size 640x480 with 1 Axes>"
      ]
     },
     "metadata": {},
     "output_type": "display_data"
    }
   ],
   "source": [
    "# Gráfico de Barras com a Idade\n",
    "\n",
    "sns.barplot(data=df_agrupamento_departamento, x=\"Department\", y=\"ID\")"
   ]
  },
  {
   "cell_type": "code",
   "execution_count": 47,
   "id": "8d492a0a",
   "metadata": {},
   "outputs": [
    {
     "data": {
      "text/html": [
       "<div>\n",
       "<style scoped>\n",
       "    .dataframe tbody tr th:only-of-type {\n",
       "        vertical-align: middle;\n",
       "    }\n",
       "\n",
       "    .dataframe tbody tr th {\n",
       "        vertical-align: top;\n",
       "    }\n",
       "\n",
       "    .dataframe thead th {\n",
       "        text-align: right;\n",
       "    }\n",
       "</style>\n",
       "<table border=\"1\" class=\"dataframe\">\n",
       "  <thead>\n",
       "    <tr style=\"text-align: right;\">\n",
       "      <th></th>\n",
       "      <th>ID</th>\n",
       "    </tr>\n",
       "    <tr>\n",
       "      <th>Salary</th>\n",
       "      <th></th>\n",
       "    </tr>\n",
       "  </thead>\n",
       "  <tbody>\n",
       "    <tr>\n",
       "      <th>30313.02</th>\n",
       "      <td>1</td>\n",
       "    </tr>\n",
       "    <tr>\n",
       "      <th>32928.10</th>\n",
       "      <td>1</td>\n",
       "    </tr>\n",
       "    <tr>\n",
       "      <th>32975.80</th>\n",
       "      <td>1</td>\n",
       "    </tr>\n",
       "    <tr>\n",
       "      <th>33544.61</th>\n",
       "      <td>1</td>\n",
       "    </tr>\n",
       "    <tr>\n",
       "      <th>35317.32</th>\n",
       "      <td>1</td>\n",
       "    </tr>\n",
       "    <tr>\n",
       "      <th>...</th>\n",
       "      <td>...</td>\n",
       "    </tr>\n",
       "    <tr>\n",
       "      <th>117617.90</th>\n",
       "      <td>1</td>\n",
       "    </tr>\n",
       "    <tr>\n",
       "      <th>119205.20</th>\n",
       "      <td>1</td>\n",
       "    </tr>\n",
       "    <tr>\n",
       "      <th>119950.79</th>\n",
       "      <td>1</td>\n",
       "    </tr>\n",
       "    <tr>\n",
       "      <th>129291.78</th>\n",
       "      <td>1</td>\n",
       "    </tr>\n",
       "    <tr>\n",
       "      <th>320532.81</th>\n",
       "      <td>1</td>\n",
       "    </tr>\n",
       "  </tbody>\n",
       "</table>\n",
       "<p>92 rows × 1 columns</p>\n",
       "</div>"
      ],
      "text/plain": [
       "           ID\n",
       "Salary       \n",
       "30313.02    1\n",
       "32928.10    1\n",
       "32975.80    1\n",
       "33544.61    1\n",
       "35317.32    1\n",
       "...        ..\n",
       "117617.90   1\n",
       "119205.20   1\n",
       "119950.79   1\n",
       "129291.78   1\n",
       "320532.81   1\n",
       "\n",
       "[92 rows x 1 columns]"
      ]
     },
     "execution_count": 47,
     "metadata": {},
     "output_type": "execute_result"
    }
   ],
   "source": [
    "# Gráfico de Barras com o Salário\n",
    "\n",
    "df_agrupamento_salario = df_employees_02.groupby(\"Salary\").agg({\"ID\": \"count\"})\n",
    "df_agrupamento_salario"
   ]
  },
  {
   "cell_type": "code",
   "execution_count": null,
   "id": "0c702c0c",
   "metadata": {},
   "outputs": [],
   "source": [
    "# Gráfico de Barras com o Departamento"
   ]
  },
  {
   "cell_type": "markdown",
   "id": "e71b1585",
   "metadata": {},
   "source": [
    "### Fim do Estudo"
   ]
  },
  {
   "cell_type": "code",
   "execution_count": 7,
   "id": "bc619e9d",
   "metadata": {},
   "outputs": [],
   "source": [
    "# Transformacao de variáveis categoricas\n",
    "# Label Enconding -> \"É uma técnica recomendada que substitui uma categoria por um valor inteiro\" -> Ordenamento natual\n",
    "# ou poucas classes\n",
    "# One Hot Enconding -> \" É uma transformação de categorias em novas features binárias\" -> Poucas categorias"
   ]
  },
  {
   "cell_type": "code",
   "execution_count": 8,
   "id": "42b99d2e",
   "metadata": {},
   "outputs": [],
   "source": [
    "# Lidar com valores ausentes\n",
    "# Eliminação das colunas ou linhas\n",
    "# Imputação de valores -> Média, Mediana, Moda"
   ]
  },
  {
   "cell_type": "code",
   "execution_count": 9,
   "id": "7cdf9bb4",
   "metadata": {},
   "outputs": [],
   "source": [
    "# Lidar com outliers\n",
    "# Box-plot\n",
    "# Retirar do df\n",
    "# Analisar os casos extremos"
   ]
  },
  {
   "cell_type": "code",
   "execution_count": 10,
   "id": "c39ac837",
   "metadata": {},
   "outputs": [],
   "source": [
    "# Normalização -> reescalar, padronização, robust scaler"
   ]
  },
  {
   "cell_type": "code",
   "execution_count": 11,
   "id": "15276efd",
   "metadata": {},
   "outputs": [],
   "source": [
    "# Redução de dimensionalidade"
   ]
  },
  {
   "cell_type": "code",
   "execution_count": 12,
   "id": "7ee2bf18",
   "metadata": {},
   "outputs": [],
   "source": [
    "# Redução de Dimensionalidade\n",
    "# Reduzir o tempo de processamento e o overfitting\n",
    "# Redução do número de colunas (variáveis)\n",
    "\n",
    "# Principal Compenent Analysis (PCA) (método lienar)\n",
    "# Linear Discriminant Analysis (LDA) (método linear)\n",
    "# Isomap (método não-linear)"
   ]
  }
 ],
 "metadata": {
  "kernelspec": {
   "display_name": "Python 3 (ipykernel)",
   "language": "python",
   "name": "python3"
  },
  "language_info": {
   "codemirror_mode": {
    "name": "ipython",
    "version": 3
   },
   "file_extension": ".py",
   "mimetype": "text/x-python",
   "name": "python",
   "nbconvert_exporter": "python",
   "pygments_lexer": "ipython3",
   "version": "3.10.9"
  }
 },
 "nbformat": 4,
 "nbformat_minor": 5
}
