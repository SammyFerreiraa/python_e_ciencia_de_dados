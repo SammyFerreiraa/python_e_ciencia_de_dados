{
 "cells": [
  {
   "cell_type": "code",
   "execution_count": 1,
   "id": "3516397a",
   "metadata": {},
   "outputs": [],
   "source": [
    "# Transformar de forma correta os tipos das variáveis do df\n",
    "# Processamento de dados é um método cíclico"
   ]
  },
  {
   "cell_type": "code",
   "execution_count": 2,
   "id": "fd29c93e",
   "metadata": {},
   "outputs": [],
   "source": [
    "# Análise gráfica do df -> Identificar alguma inconsistência dos dados"
   ]
  },
  {
   "cell_type": "code",
   "execution_count": 3,
   "id": "bc619e9d",
   "metadata": {},
   "outputs": [],
   "source": [
    "# Transformacao de variáveis categoricas\n",
    "# Label Enconding -> \"É uma técnica recomendada que substitui uma categoria por um valor inteiro\" -> Ordenamento natual\n",
    "# ou poucas classes\n",
    "# One Hot Enconding -> \" É uma transformação de categorias em novas features binárias\" -> Poucas categorias"
   ]
  },
  {
   "cell_type": "code",
   "execution_count": 4,
   "id": "42b99d2e",
   "metadata": {},
   "outputs": [],
   "source": [
    "# Lidar com valores ausentes\n",
    "# Eliminação das colunas ou linhas\n",
    "# Imputação de valores -> Média, Mediana, Moda"
   ]
  },
  {
   "cell_type": "code",
   "execution_count": 5,
   "id": "7cdf9bb4",
   "metadata": {},
   "outputs": [],
   "source": [
    "# Lidar com outliers\n",
    "# Box-plot\n",
    "# Retirar do df\n",
    "# Analisar os casos extremos"
   ]
  },
  {
   "cell_type": "code",
   "execution_count": 6,
   "id": "c39ac837",
   "metadata": {},
   "outputs": [],
   "source": [
    "# Normalização -> reescalar, padronização, robust scaler"
   ]
  },
  {
   "cell_type": "code",
   "execution_count": 1,
   "id": "15276efd",
   "metadata": {},
   "outputs": [],
   "source": [
    "# Redução de dimensionalidade"
   ]
  },
  {
   "cell_type": "code",
   "execution_count": null,
   "id": "7ee2bf18",
   "metadata": {},
   "outputs": [],
   "source": [
    "# Redução de Dimensionalidade\n",
    "# Reduzir o tempo de processamento e o overfitting\n",
    "# Redução do número de colunas (variáveis)\n",
    "\n",
    "# Principal Compenent Analysis (PCA) (método lienar)\n",
    "# Linear Discriminant Analysis (LDA) (método linear)\n",
    "# Isomap (método não-linear)"
   ]
  }
 ],
 "metadata": {
  "kernelspec": {
   "display_name": "Python 3 (ipykernel)",
   "language": "python",
   "name": "python3"
  },
  "language_info": {
   "codemirror_mode": {
    "name": "ipython",
    "version": 3
   },
   "file_extension": ".py",
   "mimetype": "text/x-python",
   "name": "python",
   "nbconvert_exporter": "python",
   "pygments_lexer": "ipython3",
   "version": "3.10.9"
  }
 },
 "nbformat": 4,
 "nbformat_minor": 5
}
