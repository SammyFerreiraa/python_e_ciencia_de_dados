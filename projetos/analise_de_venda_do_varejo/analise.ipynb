{
 "cells": [
  {
   "cell_type": "markdown",
   "id": "343c8c35",
   "metadata": {},
   "source": [
    "# Projeto 1: Análise de Vendas de uma Loja de Varejo\n",
    "\n",
    "## Objetivo:\n",
    "\n",
    "Realizar a manipulação e limpeza dos dados de vendas e criar visualizações para entender o desempenho da loja."
   ]
  },
  {
   "cell_type": "markdown",
   "id": "34b31dd8",
   "metadata": {},
   "source": [
    "### 1. Obtenção dos Dados:\n",
    "\n",
    "- Baixe um dataset de vendas de varejo. Você pode usar o dataset de Vendas de Varejo do Kaggle.\n",
    "\n",
    "### 2. Exploração Inicial dos Dados:\n",
    "\n",
    "- Carregue os dados usando Pandas.\n",
    "- Exiba as primeiras linhas e verifique a estrutura do DataFrame.\n",
    "- Obtenha informações básicas: tipos de dados, valores ausentes, estatísticas descritivas."
   ]
  },
  {
   "cell_type": "code",
   "execution_count": 30,
   "id": "142bb32f",
   "metadata": {},
   "outputs": [],
   "source": [
    "import pandas as pd\n",
    "import seaborn as sns"
   ]
  },
  {
   "cell_type": "code",
   "execution_count": 18,
   "id": "a5218b78",
   "metadata": {},
   "outputs": [],
   "source": [
    "df_vendas_varejo = pd.read_csv(\"dataset_vendas.csv\")"
   ]
  },
  {
   "cell_type": "code",
   "execution_count": 19,
   "id": "3ce1dd5a",
   "metadata": {},
   "outputs": [
    {
     "data": {
      "text/html": [
       "<div>\n",
       "<style scoped>\n",
       "    .dataframe tbody tr th:only-of-type {\n",
       "        vertical-align: middle;\n",
       "    }\n",
       "\n",
       "    .dataframe tbody tr th {\n",
       "        vertical-align: top;\n",
       "    }\n",
       "\n",
       "    .dataframe thead th {\n",
       "        text-align: right;\n",
       "    }\n",
       "</style>\n",
       "<table border=\"1\" class=\"dataframe\">\n",
       "  <thead>\n",
       "    <tr style=\"text-align: right;\">\n",
       "      <th></th>\n",
       "      <th>ID_Pedido</th>\n",
       "      <th>Data_Pedido</th>\n",
       "      <th>ID_Cliente</th>\n",
       "      <th>Segmento</th>\n",
       "      <th>Pais</th>\n",
       "      <th>Cidade</th>\n",
       "      <th>Estado</th>\n",
       "      <th>ID_Produto</th>\n",
       "      <th>Categoria</th>\n",
       "      <th>SubCategoria</th>\n",
       "      <th>Valor_Venda</th>\n",
       "    </tr>\n",
       "  </thead>\n",
       "  <tbody>\n",
       "    <tr>\n",
       "      <th>0</th>\n",
       "      <td>CA-2017-152156</td>\n",
       "      <td>08/11/2017</td>\n",
       "      <td>CG-12520</td>\n",
       "      <td>Consumer</td>\n",
       "      <td>United States</td>\n",
       "      <td>Henderson</td>\n",
       "      <td>Kentucky</td>\n",
       "      <td>FUR-BO-10001798</td>\n",
       "      <td>Furniture</td>\n",
       "      <td>Bookcases</td>\n",
       "      <td>261.9600</td>\n",
       "    </tr>\n",
       "    <tr>\n",
       "      <th>1</th>\n",
       "      <td>CA-2017-152156</td>\n",
       "      <td>08/11/2017</td>\n",
       "      <td>CG-12520</td>\n",
       "      <td>Consumer</td>\n",
       "      <td>United States</td>\n",
       "      <td>Henderson</td>\n",
       "      <td>Kentucky</td>\n",
       "      <td>FUR-CH-10000454</td>\n",
       "      <td>Furniture</td>\n",
       "      <td>Chairs</td>\n",
       "      <td>731.9400</td>\n",
       "    </tr>\n",
       "    <tr>\n",
       "      <th>2</th>\n",
       "      <td>CA-2017-138688</td>\n",
       "      <td>12/06/2017</td>\n",
       "      <td>DV-13045</td>\n",
       "      <td>Corporate</td>\n",
       "      <td>United States</td>\n",
       "      <td>Los Angeles</td>\n",
       "      <td>California</td>\n",
       "      <td>OFF-LA-10000240</td>\n",
       "      <td>Office Supplies</td>\n",
       "      <td>Labels</td>\n",
       "      <td>14.6200</td>\n",
       "    </tr>\n",
       "    <tr>\n",
       "      <th>3</th>\n",
       "      <td>US-2016-108966</td>\n",
       "      <td>11/10/2016</td>\n",
       "      <td>SO-20335</td>\n",
       "      <td>Consumer</td>\n",
       "      <td>United States</td>\n",
       "      <td>Fort Lauderdale</td>\n",
       "      <td>Florida</td>\n",
       "      <td>FUR-TA-10000577</td>\n",
       "      <td>Furniture</td>\n",
       "      <td>Tables</td>\n",
       "      <td>957.5775</td>\n",
       "    </tr>\n",
       "    <tr>\n",
       "      <th>4</th>\n",
       "      <td>US-2016-108966</td>\n",
       "      <td>11/10/2016</td>\n",
       "      <td>SO-20335</td>\n",
       "      <td>Consumer</td>\n",
       "      <td>United States</td>\n",
       "      <td>Fort Lauderdale</td>\n",
       "      <td>Florida</td>\n",
       "      <td>OFF-ST-10000760</td>\n",
       "      <td>Office Supplies</td>\n",
       "      <td>Storage</td>\n",
       "      <td>22.3680</td>\n",
       "    </tr>\n",
       "  </tbody>\n",
       "</table>\n",
       "</div>"
      ],
      "text/plain": [
       "        ID_Pedido Data_Pedido ID_Cliente   Segmento           Pais  \\\n",
       "0  CA-2017-152156  08/11/2017   CG-12520   Consumer  United States   \n",
       "1  CA-2017-152156  08/11/2017   CG-12520   Consumer  United States   \n",
       "2  CA-2017-138688  12/06/2017   DV-13045  Corporate  United States   \n",
       "3  US-2016-108966  11/10/2016   SO-20335   Consumer  United States   \n",
       "4  US-2016-108966  11/10/2016   SO-20335   Consumer  United States   \n",
       "\n",
       "            Cidade      Estado       ID_Produto        Categoria SubCategoria  \\\n",
       "0        Henderson    Kentucky  FUR-BO-10001798        Furniture    Bookcases   \n",
       "1        Henderson    Kentucky  FUR-CH-10000454        Furniture       Chairs   \n",
       "2      Los Angeles  California  OFF-LA-10000240  Office Supplies       Labels   \n",
       "3  Fort Lauderdale     Florida  FUR-TA-10000577        Furniture       Tables   \n",
       "4  Fort Lauderdale     Florida  OFF-ST-10000760  Office Supplies      Storage   \n",
       "\n",
       "   Valor_Venda  \n",
       "0     261.9600  \n",
       "1     731.9400  \n",
       "2      14.6200  \n",
       "3     957.5775  \n",
       "4      22.3680  "
      ]
     },
     "execution_count": 19,
     "metadata": {},
     "output_type": "execute_result"
    }
   ],
   "source": [
    "df_vendas_varejo.head()"
   ]
  },
  {
   "cell_type": "code",
   "execution_count": 20,
   "id": "c8da4051",
   "metadata": {},
   "outputs": [
    {
     "data": {
      "text/plain": [
       "(9700, 11)"
      ]
     },
     "execution_count": 20,
     "metadata": {},
     "output_type": "execute_result"
    }
   ],
   "source": [
    "df_vendas_varejo.shape"
   ]
  },
  {
   "cell_type": "code",
   "execution_count": 21,
   "id": "8ede1267",
   "metadata": {},
   "outputs": [
    {
     "name": "stdout",
     "output_type": "stream",
     "text": [
      "<class 'pandas.core.frame.DataFrame'>\n",
      "RangeIndex: 9700 entries, 0 to 9699\n",
      "Data columns (total 11 columns):\n",
      " #   Column        Non-Null Count  Dtype  \n",
      "---  ------        --------------  -----  \n",
      " 0   ID_Pedido     9700 non-null   object \n",
      " 1   Data_Pedido   9700 non-null   object \n",
      " 2   ID_Cliente    9700 non-null   object \n",
      " 3   Segmento      9700 non-null   object \n",
      " 4   Pais          9700 non-null   object \n",
      " 5   Cidade        9700 non-null   object \n",
      " 6   Estado        9700 non-null   object \n",
      " 7   ID_Produto    9700 non-null   object \n",
      " 8   Categoria     9700 non-null   object \n",
      " 9   SubCategoria  9700 non-null   object \n",
      " 10  Valor_Venda   9700 non-null   float64\n",
      "dtypes: float64(1), object(10)\n",
      "memory usage: 833.7+ KB\n"
     ]
    }
   ],
   "source": [
    "df_vendas_varejo.info()"
   ]
  },
  {
   "cell_type": "code",
   "execution_count": 22,
   "id": "af3edcae",
   "metadata": {},
   "outputs": [
    {
     "data": {
      "text/plain": [
       "ID_Pedido       0\n",
       "Data_Pedido     0\n",
       "ID_Cliente      0\n",
       "Segmento        0\n",
       "Pais            0\n",
       "Cidade          0\n",
       "Estado          0\n",
       "ID_Produto      0\n",
       "Categoria       0\n",
       "SubCategoria    0\n",
       "Valor_Venda     0\n",
       "dtype: int64"
      ]
     },
     "execution_count": 22,
     "metadata": {},
     "output_type": "execute_result"
    }
   ],
   "source": [
    "df_vendas_varejo.isna().sum()"
   ]
  },
  {
   "cell_type": "code",
   "execution_count": 23,
   "id": "3a7fd8c4",
   "metadata": {},
   "outputs": [
    {
     "data": {
      "text/html": [
       "<div>\n",
       "<style scoped>\n",
       "    .dataframe tbody tr th:only-of-type {\n",
       "        vertical-align: middle;\n",
       "    }\n",
       "\n",
       "    .dataframe tbody tr th {\n",
       "        vertical-align: top;\n",
       "    }\n",
       "\n",
       "    .dataframe thead th {\n",
       "        text-align: right;\n",
       "    }\n",
       "</style>\n",
       "<table border=\"1\" class=\"dataframe\">\n",
       "  <thead>\n",
       "    <tr style=\"text-align: right;\">\n",
       "      <th></th>\n",
       "      <th>Valor_Venda</th>\n",
       "    </tr>\n",
       "  </thead>\n",
       "  <tbody>\n",
       "    <tr>\n",
       "      <th>count</th>\n",
       "      <td>9700.000000</td>\n",
       "    </tr>\n",
       "    <tr>\n",
       "      <th>mean</th>\n",
       "      <td>230.469892</td>\n",
       "    </tr>\n",
       "    <tr>\n",
       "      <th>std</th>\n",
       "      <td>627.504252</td>\n",
       "    </tr>\n",
       "    <tr>\n",
       "      <th>min</th>\n",
       "      <td>0.444000</td>\n",
       "    </tr>\n",
       "    <tr>\n",
       "      <th>25%</th>\n",
       "      <td>17.248000</td>\n",
       "    </tr>\n",
       "    <tr>\n",
       "      <th>50%</th>\n",
       "      <td>54.272000</td>\n",
       "    </tr>\n",
       "    <tr>\n",
       "      <th>75%</th>\n",
       "      <td>209.932500</td>\n",
       "    </tr>\n",
       "    <tr>\n",
       "      <th>max</th>\n",
       "      <td>22638.480000</td>\n",
       "    </tr>\n",
       "  </tbody>\n",
       "</table>\n",
       "</div>"
      ],
      "text/plain": [
       "        Valor_Venda\n",
       "count   9700.000000\n",
       "mean     230.469892\n",
       "std      627.504252\n",
       "min        0.444000\n",
       "25%       17.248000\n",
       "50%       54.272000\n",
       "75%      209.932500\n",
       "max    22638.480000"
      ]
     },
     "execution_count": 23,
     "metadata": {},
     "output_type": "execute_result"
    }
   ],
   "source": [
    "df_vendas_varejo.describe()"
   ]
  },
  {
   "cell_type": "markdown",
   "id": "72ac24df",
   "metadata": {},
   "source": [
    "### 3. Limpeza dos Dados:\n",
    "\n",
    "- Identifique e trate dados ausentes.\n",
    "- Corrija tipos de dados incorretos.\n",
    "- Remova duplicatas.\n",
    "- Trate valores anômalos."
   ]
  },
  {
   "cell_type": "code",
   "execution_count": 24,
   "id": "0e1cae14",
   "metadata": {},
   "outputs": [
    {
     "data": {
      "text/plain": [
       "Index(['ID_Pedido', 'Data_Pedido', 'ID_Cliente', 'Segmento', 'Pais', 'Cidade',\n",
       "       'Estado', 'ID_Produto', 'Categoria', 'SubCategoria', 'Valor_Venda'],\n",
       "      dtype='object')"
      ]
     },
     "execution_count": 24,
     "metadata": {},
     "output_type": "execute_result"
    }
   ],
   "source": [
    "df_vendas_varejo.columns"
   ]
  },
  {
   "cell_type": "code",
   "execution_count": 26,
   "id": "83b6eb46",
   "metadata": {},
   "outputs": [
    {
     "name": "stderr",
     "output_type": "stream",
     "text": [
      "C:\\Users\\ruben\\AppData\\Local\\Temp\\ipykernel_16312\\536740102.py:1: UserWarning: Parsing dates in DD/MM/YYYY format when dayfirst=False (the default) was specified. This may lead to inconsistently parsed dates! Specify a format to ensure consistent parsing.\n",
      "  df_vendas_varejo[\"Data_Pedido\"] = pd.to_datetime(df_vendas_varejo[\"Data_Pedido\"])\n"
     ]
    }
   ],
   "source": [
    "df_vendas_varejo[\"Data_Pedido\"] = pd.to_datetime(df_vendas_varejo[\"Data_Pedido\"])"
   ]
  },
  {
   "cell_type": "code",
   "execution_count": 28,
   "id": "65ea7dae",
   "metadata": {},
   "outputs": [],
   "source": [
    "df_vendas_varejo = df_vendas_varejo.drop_duplicates()"
   ]
  },
  {
   "cell_type": "code",
   "execution_count": 29,
   "id": "b34a52cb",
   "metadata": {},
   "outputs": [
    {
     "data": {
      "text/plain": [
       "(9700, 11)"
      ]
     },
     "execution_count": 29,
     "metadata": {},
     "output_type": "execute_result"
    }
   ],
   "source": [
    "df_vendas_varejo.shape"
   ]
  },
  {
   "cell_type": "code",
   "execution_count": 31,
   "id": "cd775c0a",
   "metadata": {},
   "outputs": [
    {
     "data": {
      "text/plain": [
       "<Axes: xlabel='Valor_Venda'>"
      ]
     },
     "execution_count": 31,
     "metadata": {},
     "output_type": "execute_result"
    },
    {
     "data": {
      "image/png": "[encoded data removed]",
      "text/plain": [
       "<Figure size 640x480 with 1 Axes>"
      ]
     },
     "metadata": {},
     "output_type": "display_data"
    }
   ],
   "source": [
    "sns.boxplot(x=df_vendas_varejo[\"Valor_Venda\"])"
   ]
  },
  {
   "cell_type": "code",
   "execution_count": 39,
   "id": "48b16f02",
   "metadata": {},
   "outputs": [],
   "source": [
    "Q1 = df_vendas_varejo[\"Valor_Venda\"].quantile(0.25)\n",
    "Q3 = df_vendas_varejo[\"Valor_Venda\"].quantile(0.5)"
   ]
  },
  {
   "cell_type": "code",
   "execution_count": 40,
   "id": "2cc49542",
   "metadata": {},
   "outputs": [
    {
     "data": {
      "text/plain": [
       "37.024"
      ]
     },
     "execution_count": 40,
     "metadata": {},
     "output_type": "execute_result"
    }
   ],
   "source": [
    "IQR = q3 - q1\n",
    "IQR"
   ]
  },
  {
   "cell_type": "code",
   "execution_count": 47,
   "id": "b958fe64",
   "metadata": {},
   "outputs": [
    {
     "data": {
      "text/plain": [
       "109.80799999999999"
      ]
     },
     "execution_count": 47,
     "metadata": {},
     "output_type": "execute_result"
    }
   ],
   "source": [
    "limite_inferior = Q1 - 1.5 * IQR\n",
    "limite_superior = Q3 + 1.5 * IQR\n",
    "\n",
    "limite_superior"
   ]
  },
  {
   "cell_type": "code",
   "execution_count": 48,
   "id": "d54e0dae",
   "metadata": {},
   "outputs": [
    {
     "data": {
      "text/plain": [
       "3496"
      ]
     },
     "execution_count": 48,
     "metadata": {},
     "output_type": "execute_result"
    }
   ],
   "source": [
    "outliers = df_vendas_varejo[(df_vendas_varejo['Valor_Venda'] < limite_inferior) | (df_vendas_varejo['Valor_Venda'] > limite_superior)][\"Valor_Venda\"]\n",
    "outliers.count()"
   ]
  },
  {
   "cell_type": "code",
   "execution_count": null,
   "id": "5ec99a02",
   "metadata": {},
   "outputs": [],
   "source": []
  },
  {
   "cell_type": "markdown",
   "id": "28e20d65",
   "metadata": {},
   "source": [
    "### 4. Manipulação dos Dados:\n",
    "\n",
    "- Crie colunas adicionais: ano, mês, dia a partir da data de venda.\n",
    "- Calcule métricas de vendas: total de vendas por dia, mês, ano.\n",
    "- Agrupe dados por categoria de produto, região, etc."
   ]
  },
  {
   "cell_type": "markdown",
   "id": "6efce4b6",
   "metadata": {},
   "source": [
    "### 5. Visualização dos Dados:\n",
    "\n",
    "- Crie gráficos de linha para mostrar as vendas ao longo do tempo.\n",
    "- Use gráficos de barras para comparar vendas por categoria de produto.\n",
    "- Crie um gráfico de pizza para mostrar a participação das vendas por região."
   ]
  },
  {
   "cell_type": "code",
   "execution_count": null,
   "id": "e2f3e544",
   "metadata": {},
   "outputs": [],
   "source": []
  }
 ],
 "metadata": {
  "kernelspec": {
   "display_name": "Python 3 (ipykernel)",
   "language": "python",
   "name": "python3"
  },
  "language_info": {
   "codemirror_mode": {
    "name": "ipython",
    "version": 3
   },
   "file_extension": ".py",
   "mimetype": "text/x-python",
   "name": "python",
   "nbconvert_exporter": "python",
   "pygments_lexer": "ipython3",
   "version": "3.10.9"
  }
 },
 "nbformat": 4,
 "nbformat_minor": 5
}
