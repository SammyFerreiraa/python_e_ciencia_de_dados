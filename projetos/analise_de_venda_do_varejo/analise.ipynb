{
 "cells": [
  {
   "cell_type": "markdown",
   "id": "343c8c35",
   "metadata": {},
   "source": [
    "# Projeto 1: Análise de Vendas de uma Loja de Varejo\n",
    "\n",
    "## Objetivo:\n",
    "\n",
    "Realizar a manipulação e limpeza dos dados de vendas e criar visualizações para entender o desempenho da loja."
   ]
  },
  {
   "cell_type": "markdown",
   "id": "34b31dd8",
   "metadata": {},
   "source": [
    "### 1. Obtenção dos Dados:\n",
    "\n",
    "- Baixe um dataset de vendas de varejo. Você pode usar o dataset de Vendas de Varejo do Kaggle.\n",
    "\n",
    "### 2. Exploração Inicial dos Dados:\n",
    "\n",
    "- Carregue os dados usando Pandas.\n",
    "- Exiba as primeiras linhas e verifique a estrutura do DataFrame.\n",
    "- Obtenha informações básicas: tipos de dados, valores ausentes, estatísticas descritivas."
   ]
  },
  {
   "cell_type": "markdown",
   "id": "72ac24df",
   "metadata": {},
   "source": [
    "### 3. Limpeza dos Dados:\n",
    "\n",
    "- Identifique e trate dados ausentes.\n",
    "- Corrija tipos de dados incorretos.\n",
    "- Remova duplicatas.\n",
    "- Trate valores anômalos."
   ]
  },
  {
   "cell_type": "markdown",
   "id": "28e20d65",
   "metadata": {},
   "source": [
    "### 4. Manipulação dos Dados:\n",
    "\n",
    "- Crie colunas adicionais: ano, mês, dia a partir da data de venda.\n",
    "- Calcule métricas de vendas: total de vendas por dia, mês, ano.\n",
    "- Agrupe dados por categoria de produto, região, etc."
   ]
  },
  {
   "cell_type": "markdown",
   "id": "6efce4b6",
   "metadata": {},
   "source": [
    "### 5. Visualização dos Dados:\n",
    "\n",
    "- Crie gráficos de linha para mostrar as vendas ao longo do tempo.\n",
    "- Use gráficos de barras para comparar vendas por categoria de produto.\n",
    "- Crie um gráfico de pizza para mostrar a participação das vendas por região."
   ]
  },
  {
   "cell_type": "code",
   "execution_count": null,
   "id": "e2f3e544",
   "metadata": {},
   "outputs": [],
   "source": []
  }
 ],
 "metadata": {
  "kernelspec": {
   "display_name": "Python 3 (ipykernel)",
   "language": "python",
   "name": "python3"
  },
  "language_info": {
   "codemirror_mode": {
    "name": "ipython",
    "version": 3
   },
   "file_extension": ".py",
   "mimetype": "text/x-python",
   "name": "python",
   "nbconvert_exporter": "python",
   "pygments_lexer": "ipython3",
   "version": "3.10.9"
  }
 },
 "nbformat": 4,
 "nbformat_minor": 5
}
