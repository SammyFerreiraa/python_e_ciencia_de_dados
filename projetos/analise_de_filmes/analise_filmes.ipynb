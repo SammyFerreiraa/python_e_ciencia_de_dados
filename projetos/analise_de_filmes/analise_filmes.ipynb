{
 "cells": [
  {
   "cell_type": "markdown",
   "id": "88091eee",
   "metadata": {},
   "source": [
    "## Projeto 2: Análise de Dados de Filmes\n",
    "\n",
    "### Objetivo:\n",
    "\n",
    "Manipular e limpar dados de filmes e criar visualizações para entender tendências e padrões.\n",
    "\n",
    "### Passos:\n",
    "\n",
    "#### 1. Obtenção dos Dados:\n",
    "\n",
    "- Baixe um dataset de filmes. O IMDB Movies Dataset é uma boa escolha. \n",
    "\n",
    "#### 2. Exploração Inicial dos Dados:\n",
    "\n",
    "- Carregue os dados usando Pandas.\n",
    "- Exiba as primeiras linhas e verifique a estrutura do DataFrame.\n",
    "- Obtenha informações básicas: tipos de dados, valores ausentes, estatísticas descritivas."
   ]
  },
  {
   "cell_type": "markdown",
   "id": "d3f0b300",
   "metadata": {},
   "source": [
    "#### 3. Limpeza dos Dados:\n",
    "\n",
    "- Identifique e trate dados ausentes.\n",
    "- Corrija tipos de dados incorretos.\n",
    "- Remova duplicatas.\n",
    "- Trate valores anômalos."
   ]
  },
  {
   "cell_type": "markdown",
   "id": "e70f3ab5",
   "metadata": {},
   "source": [
    "#### 4. Manipulação dos Dados:\n",
    "\n",
    "- Crie colunas adicionais: ano de lançamento, gênero.\n",
    "- Calcule métricas: média de avaliação por gênero, número de filmes lançados por ano.\n",
    "- Agrupe dados por gênero, ano de lançamento, diretor."
   ]
  },
  {
   "cell_type": "markdown",
   "id": "03fac22d",
   "metadata": {},
   "source": [
    "##### 5. Visualização dos Dados:\n",
    "\n",
    "- Crie gráficos de barras para mostrar a distribuição de filmes por gênero.\n",
    "- Use gráficos de linha para mostrar a evolução da média de avaliações ao longo do tempo.\n",
    "- Crie um gráfico de dispersão para relacionar orçamento e receita."
   ]
  }
 ],
 "metadata": {
  "kernelspec": {
   "display_name": "Python 3 (ipykernel)",
   "language": "python",
   "name": "python3"
  },
  "language_info": {
   "codemirror_mode": {
    "name": "ipython",
    "version": 3
   },
   "file_extension": ".py",
   "mimetype": "text/x-python",
   "name": "python",
   "nbconvert_exporter": "python",
   "pygments_lexer": "ipython3",
   "version": "3.10.9"
  }
 },
 "nbformat": 4,
 "nbformat_minor": 5
}
