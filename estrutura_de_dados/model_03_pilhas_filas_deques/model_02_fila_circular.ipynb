{
 "cells": [
  {
   "cell_type": "code",
   "execution_count": 3,
   "metadata": {},
   "outputs": [],
   "source": [
    "import numpy as np\n",
    "import numpy.typing as npt"
   ]
  },
  {
   "cell_type": "code",
   "execution_count": 5,
   "metadata": {},
   "outputs": [],
   "source": [
    "class FilaCircular:\n",
    "    def __init__(self, capacidade: int) -> None:\n",
    "        self.capacidade: int = capacidade\n",
    "        self.inicio: int = 0\n",
    "        self.final: int = -1\n",
    "        self.numeros_elementos: int = 0\n",
    "        self.elemento: npt.ArrayLike = np.empty(self.capacidade, dtype=int)\n",
    "    \n",
    "    def __fila_vazia(self) -> bool:\n",
    "        return self.numeros_elementos == 0\n",
    "    \n",
    "    def __fila_cheia(self) -> bool:\n",
    "        return self.numeros_elementos == self.capacidade\n",
    "    \n",
    "    def enfileira(self, valor) -> None:\n",
    "        if self.__fila_cheia:\n",
    "            print(\"A fila está cheia\")\n",
    "            return\n",
    "        if self.final == self.capacidade - 1:\n",
    "            self.final = 1\n",
    "        self.final += 1\n",
    "        self.valores[self.final] = valor\n",
    "        self.numeros_elementos += 1\n",
    "\n",
    "    def desenfileirar(self) -> int | None:\n",
    "        if self.__fila_vazia():\n",
    "            print(\"A fila está vazia\")\n",
    "            return\n",
    "        temp = self.valores[self.inicio]\n",
    "        self.inicio += 1\n",
    "        if self.inicio == self.capacidade:\n",
    "            self.inicio = 0\n",
    "        self.numeros_elementos -= 1\n",
    "        return temp\n",
    "    \n",
    "    def primeiro_valor(self) -> int:\n",
    "        if self.__fila_vazia():\n",
    "            return -1\n",
    "        return self.capacidade[self.inicio]"
   ]
  },
  {
   "cell_type": "code",
   "execution_count": null,
   "metadata": {},
   "outputs": [],
   "source": []
  }
 ],
 "metadata": {
  "kernelspec": {
   "display_name": "Python 3",
   "language": "python",
   "name": "python3"
  },
  "language_info": {
   "codemirror_mode": {
    "name": "ipython",
    "version": 3
   },
   "file_extension": ".py",
   "mimetype": "text/x-python",
   "name": "python",
   "nbconvert_exporter": "python",
   "pygments_lexer": "ipython3",
   "version": "3.12.1"
  }
 },
 "nbformat": 4,
 "nbformat_minor": 2
}
