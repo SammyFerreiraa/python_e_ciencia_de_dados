{
 "cells": [
  {
   "cell_type": "code",
   "execution_count": 2,
   "metadata": {},
   "outputs": [],
   "source": [
    "import numpy as np\n",
    "import numpy.typing as npt"
   ]
  },
  {
   "cell_type": "code",
   "execution_count": 12,
   "metadata": {},
   "outputs": [],
   "source": [
    "class Pilha:\n",
    "    def __init__(self, capacidade: int) -> None:\n",
    "        self.__capacidade: int = capacidade\n",
    "        self.__topo: int = -1\n",
    "        self.__valores: npt.ArrayLike = np.empty(self.__capacidade, dtype=int)\n",
    "    \n",
    "    def __pilha_cheia(self) -> bool:\n",
    "        if self.__topo == self.__capacidade - 1:\n",
    "            return True\n",
    "        return False\n",
    "    \n",
    "    def __pilha_vazia(self) -> bool:\n",
    "        if self.__topo == -1:\n",
    "            return True\n",
    "        return False\n",
    "    \n",
    "    def empilhar(self, valor: int) -> None:\n",
    "        if self.__pilha_cheia():\n",
    "            print(\"A pilha está cheia\")\n",
    "            return\n",
    "        self.__topo += 1\n",
    "        self.__valores[self.__topo] = valor\n",
    "\n",
    "    def desempilhar(self) -> None:\n",
    "        if self.__pilha_vazia():\n",
    "            print(\"A pilha está vazia\")\n",
    "            return\n",
    "        self.__topo -= 1\n",
    "\n",
    "    def ver_topo(self) -> int:\n",
    "        if self.__topo != -1:\n",
    "            return self.__valores[self.__topo]\n",
    "        return -1"
   ]
  },
  {
   "cell_type": "code",
   "execution_count": 13,
   "metadata": {},
   "outputs": [
    {
     "name": "stdout",
     "output_type": "stream",
     "text": [
      "Topo da pilha: 30\n",
      "Topo da pilha após desempilhar: 20\n"
     ]
    }
   ],
   "source": [
    "# Exemplo de uso\n",
    "minha_pilha = Pilha(5)\n",
    "minha_pilha.empilhar(10)\n",
    "minha_pilha.empilhar(20)\n",
    "minha_pilha.empilhar(30)\n",
    "\n",
    "print(\"Topo da pilha:\", minha_pilha.ver_topo())\n",
    "minha_pilha.desempilhar()\n",
    "print(\"Topo da pilha após desempilhar:\", minha_pilha.ver_topo())"
   ]
  },
  {
   "cell_type": "code",
   "execution_count": null,
   "metadata": {},
   "outputs": [],
   "source": []
  }
 ],
 "metadata": {
  "kernelspec": {
   "display_name": "Python 3",
   "language": "python",
   "name": "python3"
  },
  "language_info": {
   "codemirror_mode": {
    "name": "ipython",
    "version": 3
   },
   "file_extension": ".py",
   "mimetype": "text/x-python",
   "name": "python",
   "nbconvert_exporter": "python",
   "pygments_lexer": "ipython3",
   "version": "3.12.1"
  }
 },
 "nbformat": 4,
 "nbformat_minor": 2
}
