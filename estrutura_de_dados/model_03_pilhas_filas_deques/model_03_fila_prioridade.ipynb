{
 "cells": [
  {
   "cell_type": "code",
   "execution_count": 1,
   "metadata": {},
   "outputs": [],
   "source": [
    "import numpy as np\n",
    "import numpy.typing as npt"
   ]
  },
  {
   "cell_type": "code",
   "execution_count": 2,
   "metadata": {},
   "outputs": [],
   "source": [
    "class FilaPrioridade:\n",
    "    def __init__(self, capacidade: int) -> None:\n",
    "        self.capacidade: int = capacidade\n",
    "        self.numeros_elementos: int = 0\n",
    "        self.valores: npt.ArrayLike = np.empty(self.capacidade, dtype=int)\n",
    "    \n",
    "    def __fila_vazia(self) -> bool:\n",
    "        return self.numeros_elementos == 0\n",
    "    \n",
    "    def __fila_cheia(self) -> bool:\n",
    "        return self.numeros_elementos == self.capacidade\n",
    "    \n",
    "    def enfileirar(self, valor: int) -> None:\n",
    "        if self.__fila_cheia():\n",
    "            print(\"A fila está cheia\")\n",
    "            return\n",
    "        if self.numeros_elementos == 0:\n",
    "            self.valores[self.numeros_elementos] = valor\n",
    "            self.numeros_elementos += 1\n",
    "        else:\n",
    "            x = self.numeros_elementos - 1\n",
    "            while x >= 0:\n",
    "                if valor > self.valores[x]:\n",
    "                    self.valores[x+1] = self.valores[x]\n",
    "                else:\n",
    "                    break\n",
    "                x -= 1\n",
    "            self.valores[x+1] = valor\n",
    "            self.numeros_elementos += 1\n",
    "    \n",
    "    def desenfileirar(self) -> int | None:\n",
    "        if self.__fila_vazia():\n",
    "            print(\"A fila está vazia\")\n",
    "            return\n",
    "        valor = self.valores[self.numeros_elementos - 1]\n",
    "        self.numeros_elementos -= 1\n",
    "        return valor\n",
    "\n",
    "    def primeiro_valor(self) -> int:\n",
    "        if self.__fila_vazia():\n",
    "            return -1\n",
    "        return self.capacidade[self.inicio]"
   ]
  },
  {
   "cell_type": "code",
   "execution_count": null,
   "metadata": {},
   "outputs": [],
   "source": []
  }
 ],
 "metadata": {
  "kernelspec": {
   "display_name": "Python 3",
   "language": "python",
   "name": "python3"
  },
  "language_info": {
   "codemirror_mode": {
    "name": "ipython",
    "version": 3
   },
   "file_extension": ".py",
   "mimetype": "text/x-python",
   "name": "python",
   "nbconvert_exporter": "python",
   "pygments_lexer": "ipython3",
   "version": "3.12.1"
  }
 },
 "nbformat": 4,
 "nbformat_minor": 2
}
