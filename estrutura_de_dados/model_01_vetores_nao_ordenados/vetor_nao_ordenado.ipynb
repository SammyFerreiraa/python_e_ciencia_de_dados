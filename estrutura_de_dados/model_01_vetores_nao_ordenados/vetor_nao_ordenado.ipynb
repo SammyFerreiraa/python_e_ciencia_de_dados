{
 "cells": [
  {
   "cell_type": "code",
   "execution_count": 3,
   "metadata": {},
   "outputs": [],
   "source": [
    "import numpy as np\n",
    "import numpy.typing as npt"
   ]
  },
  {
   "cell_type": "code",
   "execution_count": 25,
   "metadata": {},
   "outputs": [],
   "source": [
    "class VetorNaoOrdenado:\n",
    "    def __init__(self, capacidade: int) -> None:\n",
    "        self.capacidade: int = capacidade\n",
    "        self.ultima_posicao: int = -1\n",
    "        self.valores: npt.ArrayLike = np.empty(self.capacidade, dtype=int)\n",
    "\n",
    "    \n",
    "    def inserir(self, valor: int) -> None:\n",
    "        if self.ultima_posicao == self.capacidade - 1:\n",
    "            print(\"Vetor já atingiu sua capacidade\")\n",
    "        else:\n",
    "            self.ultima_posicao += 1\n",
    "            self.valores[self.ultima_posicao] = valor\n",
    "    \n",
    "    def pesquisa_linear(self, valor: int) -> int:\n",
    "        for i in self.valores:\n",
    "            return i\n",
    "        return -1\n",
    "    \n",
    "    def excluir(self, valor: int) -> int | None:\n",
    "        posicao = self.pesquisa_linear(valor)\n",
    "        if posicao == -1:\n",
    "            return -1\n",
    "        else:\n",
    "            for i in range(posicao, self.ultima_posicao):\n",
    "                self.valores[i] = self.valores[i + 1]\n",
    "            self.ultima_posicao -= 1\n",
    "\n",
    "    def __str__(self) -> str:\n",
    "        if self.ultima_posicao == -1:\n",
    "            print(\"O vetor está vazio!\")\n",
    "        valores_str: list[str] = []\n",
    "        for i in range(self.ultima_posicao + 1):\n",
    "            valores_str.append(f\"[{i}] {self.valores[i]}\")\n",
    "        return \"\\n\".join(str(valor) for valor in valores_str)"
   ]
  },
  {
   "cell_type": "code",
   "execution_count": 26,
   "metadata": {},
   "outputs": [
    {
     "name": "stdout",
     "output_type": "stream",
     "text": [
      "[0] 10\n",
      "[1] 20\n",
      "[2] 30\n",
      "[3] 40\n",
      "Posição do valor 20: 10\n",
      "[0] 10\n",
      "[1] 20\n",
      "[2] 30\n"
     ]
    }
   ],
   "source": [
    "# Exemplo de uso\n",
    "vetor = VetorNaoOrdenado(capacidade=5)\n",
    "vetor.inserir(10)\n",
    "vetor.inserir(20)\n",
    "vetor.inserir(30)\n",
    "vetor.inserir(40)\n",
    "print(vetor)\n",
    "\n",
    "# Teste de pesquisa binária\n",
    "print(\"Posição do valor 20:\", vetor.pesquisa_linear(20))\n",
    "\n",
    "# Teste de exclusão\n",
    "vetor.excluir(20)\n",
    "print(vetor)"
   ]
  },
  {
   "cell_type": "code",
   "execution_count": null,
   "metadata": {},
   "outputs": [],
   "source": []
  }
 ],
 "metadata": {
  "kernelspec": {
   "display_name": "Python 3",
   "language": "python",
   "name": "python3"
  },
  "language_info": {
   "codemirror_mode": {
    "name": "ipython",
    "version": 3
   },
   "file_extension": ".py",
   "mimetype": "text/x-python",
   "name": "python",
   "nbconvert_exporter": "python",
   "pygments_lexer": "ipython3",
   "version": "3.12.1"
  }
 },
 "nbformat": 4,
 "nbformat_minor": 2
}
