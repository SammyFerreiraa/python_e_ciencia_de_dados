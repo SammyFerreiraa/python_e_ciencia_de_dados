{
 "cells": [
  {
   "cell_type": "code",
   "execution_count": 1,
   "metadata": {},
   "outputs": [],
   "source": [
    "import numpy as np\n",
    "import numpy.typing as npt"
   ]
  },
  {
   "cell_type": "code",
   "execution_count": 3,
   "metadata": {},
   "outputs": [],
   "source": [
    "class VetorOrdenado:\n",
    "    def __init__(self, capacidade: int) -> None:\n",
    "        self.capacidade: int = capacidade\n",
    "        self.ultima_posicao: int = -1\n",
    "        self.valores: npt.ArrayLike = np.empty(self.capacidade, dtype=int)\n",
    "\n",
    "    def inserir(self, valor: int) -> None:\n",
    "        if self.capacidade - 1 == self.ultima_posicao:\n",
    "            print(\"Capacidade máxima atingida\")\n",
    "            return\n",
    "        posicao = 0\n",
    "        for i in range(self.ultima_posicao + 1):\n",
    "            posicao = i\n",
    "            if self.valores[i] > valor:\n",
    "                break\n",
    "            if i == self.ultima_posicao:\n",
    "                posicao = i + 1\n",
    "        x = self.ultima_posicao\n",
    "        while x >= posicao:\n",
    "            self.valores[i + 1] = self.valores[x]\n",
    "            x -= 1\n",
    "        self.valores[posicao] = valor\n",
    "        self.ultima_posicao += 1\n",
    "    \n",
    "    def pesquisa(self, valor: int) -> int:\n",
    "        for i in range(self.ultima_posicao + 1):\n",
    "            if self.valores[i] == valor or i == self.ultima_posicao:\n",
    "                return i\n",
    "            return -1\n",
    "    \n",
    "    def pesquisa_binaria(self, valor: int) -> int:\n",
    "        limite_inferior = 0\n",
    "        limite_superior = self.ultima_posicao\n",
    "        while True:\n",
    "            posicao_atual = int((limite_inferior + limite_superior) / 2)\n",
    "            if self.valores[posicao_atual] == valor:\n",
    "                return posicao_atual\n",
    "            elif limite_inferior > limite_superior:\n",
    "                return -1\n",
    "            else:\n",
    "                if self.valores[posicao_atual] < valor:\n",
    "                    limite_inferior = posicao_atual + 1\n",
    "                else:\n",
    "                    posicao_atual = posicao_atual - 1 \n",
    "\n",
    "\n",
    "    def excluir(self, valor: int) -> None | int:\n",
    "        posicao = self.pesquisar(valor)\n",
    "        if posicao == 1:\n",
    "            return -1\n",
    "        for i in range(posicao, self.ultima_posicao):\n",
    "            self.valores[i] += self.valores[i + 1]\n",
    "        self.ultima_posicao -= 1\n",
    "\n",
    "    def __str__(self) -> str:\n",
    "        if self.ultima_posicao == -1:\n",
    "            print(\"O vetor está vazio!\")\n",
    "        valores_str: list[str] = []\n",
    "        for i in range(self.ultima_posicao + 1):\n",
    "            valores_str.append(f\"[{i}] {self.valores[i]}\")\n",
    "        return \"\\n\".join(str(valor) for valor in valores_str)"
   ]
  },
  {
   "cell_type": "code",
   "execution_count": null,
   "metadata": {},
   "outputs": [],
   "source": []
  }
 ],
 "metadata": {
  "kernelspec": {
   "display_name": "Python 3",
   "language": "python",
   "name": "python3"
  },
  "language_info": {
   "codemirror_mode": {
    "name": "ipython",
    "version": 3
   },
   "file_extension": ".py",
   "mimetype": "text/x-python",
   "name": "python",
   "nbconvert_exporter": "python",
   "pygments_lexer": "ipython3",
   "version": "3.12.1"
  }
 },
 "nbformat": 4,
 "nbformat_minor": 2
}
