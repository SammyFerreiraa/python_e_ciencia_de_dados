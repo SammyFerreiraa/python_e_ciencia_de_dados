{
 "cells": [
  {
   "cell_type": "code",
   "execution_count": 1,
   "metadata": {},
   "outputs": [],
   "source": [
    "# Importar as bibliotecas necessárias\n",
    "\n",
    "import os\n",
    "from dotenv import load_dotenv\n",
    "import pandas as pd\n",
    "import psycopg2\n",
    "from psycopg2 import OperationalError\n",
    "import sqlalchemy\n",
    "from sqlalchemy import create_engine\n",
    "import panel as pn"
   ]
  },
  {
   "cell_type": "code",
   "execution_count": null,
   "metadata": {},
   "outputs": [],
   "source": [
    "# Carregar as variáveis de ambiente do arquivo .env\n",
    "\n",
    "load_dotenv()"
   ]
  },
  {
   "cell_type": "code",
   "execution_count": 2,
   "metadata": {},
   "outputs": [],
   "source": [
    "# Pegar os valores das variáveis de ambiente\n",
    "\n",
    "db_name = os.getenv('DB_NAME')\n",
    "db_user = os.getenv('DB_USER')\n",
    "db_password = os.getenv('DB_PASSWORD')\n",
    "db_host = os.getenv('DB_HOST')\n",
    "db_port = os.getenv('DB_PORT')\n",
    "\n",
    "database_url = os.getenv('DATABASE_URL')"
   ]
  },
  {
   "cell_type": "code",
   "execution_count": 3,
   "metadata": {},
   "outputs": [
    {
     "name": "stdout",
     "output_type": "stream",
     "text": [
      "Conexão estabelecida com sucesso!\n"
     ]
    }
   ],
   "source": [
    "try:\n",
    "    # Tentando estabelecer a conexão com o banco de dados\n",
    "    conn = psycopg2.connect(\n",
    "        dbname=db_name,\n",
    "        user=db_user,\n",
    "        password=db_password,\n",
    "        host=db_host,\n",
    "        port=db_port,\n",
    "        options=\"-c client_encoding=LATIN1\"\n",
    "    )\n",
    "    print(\"Conexão estabelecida com sucesso!\")\n",
    "    \n",
    "except OperationalError as e:\n",
    "    # Captura de erros de conexão com o banco de dados\n",
    "    print(f\"Erro ao conectar ao banco de dados: {e}\")"
   ]
  },
  {
   "cell_type": "code",
   "execution_count": null,
   "metadata": {},
   "outputs": [],
   "source": [
    "engine = create_engine(database_url)"
   ]
  },
  {
   "cell_type": "code",
   "execution_count": null,
   "metadata": {},
   "outputs": [],
   "source": [
    "pn.extension()\n",
    "pn.extension('tabulator')\n",
    "pn.extension(notifications=True)"
   ]
  },
  {
   "cell_type": "code",
   "execution_count": null,
   "metadata": {},
   "outputs": [],
   "source": [
    "flag = \"\"\n",
    "\n",
    "game_name = pn.widgets.TextInput(\n",
    "    name=\"Nome do Jogo\",\n",
    "    value=\"\",\n",
    "    placeholder=\"Digite o nome do jogo\",\n",
    "    disabled=False\n",
    ")\n",
    "\n",
    "buttonSelect = pn.widgets.Button(name=\"Consultar\", button_type=\"default\")\n",
    "# buttonInsert = pn.widgets.Button(name=\"Inserir\", button_type=\"default\")\n",
    "# buttonDelete = pn.widgets.Button(name=\"Excluir\", button_type=\"default\")"
   ]
  },
  {
   "cell_type": "code",
   "execution_count": null,
   "metadata": {},
   "outputs": [],
   "source": [
    "# Funções para manipular o banco de dados\n",
    "def select_game():\n",
    "    try:\n",
    "        query = f\"SELECT * FROM bd_jogos.jogo WHERE ('{game_name.value_input}'='{flag}' or nome = '{game_name.value_input}')\"\n",
    "        df = pd.read_sql(query, con=engine)\n",
    "        table = pn.widgets.Tabulator(df, layout='fit_data')\n",
    "        return table\n",
    "    except Exception as e:\n",
    "        print(e)\n",
    "        return pn.pane.Alert('Não foi possível consultar!')\n",
    "\n",
    "# def insert_game(event):\n",
    "#     game_name = game_name.value\n",
    "#     try:\n",
    "#         query = f\"INSERT INTO bd_jogos.jogo (name) VALUES ('{game_name}')\"\n",
    "#         with engine.connect() as connection:\n",
    "#             connection.execute(query)\n",
    "#         pn.state.notifications.success(f\"Jogo '{game_name}' inserido com sucesso!\")\n",
    "#     except Exception as e:\n",
    "#         pn.state.notifications.error(f\"Erro ao inserir: {e}\")\n",
    "\n",
    "# def delete_game(event):\n",
    "#     game_name = game_name.value\n",
    "#     try:\n",
    "#         query = f\"DELETE FROM bd_jogos.jogo WHERE name = '{game_name}'\"\n",
    "#         with engine.connect() as connection:\n",
    "#             connection.execute(query)\n",
    "#         pn.state.notifications.success(f\"Jogo '{game_name}' excluído com sucesso!\")\n",
    "#     except Exception as e:\n",
    "#         pn.state.notifications.error(f\"Erro ao excluir: {e}\")\n"
   ]
  },
  {
   "cell_type": "code",
   "execution_count": null,
   "metadata": {},
   "outputs": [],
   "source": [
    "def table_creator(cons):\n",
    "    if cons:\n",
    "        return select_game()\n",
    "\n",
    "interactive_table = pn.bind(table_creator, buttonSelect)"
   ]
  },
  {
   "cell_type": "code",
   "execution_count": null,
   "metadata": {},
   "outputs": [],
   "source": [
    "layout = pn.Column(\n",
    "    game_name,\n",
    "    buttonSelect,\n",
    "    interactive_table\n",
    ").servable()\n"
   ]
  },
  {
   "cell_type": "code",
   "execution_count": null,
   "metadata": {},
   "outputs": [],
   "source": []
  }
 ],
 "metadata": {
  "kernelspec": {
   "display_name": "base",
   "language": "python",
   "name": "python3"
  },
  "language_info": {
   "codemirror_mode": {
    "name": "ipython",
    "version": 3
   },
   "file_extension": ".py",
   "mimetype": "text/x-python",
   "name": "python",
   "nbconvert_exporter": "python",
   "pygments_lexer": "ipython3",
   "version": "3.12.1"
  }
 },
 "nbformat": 4,
 "nbformat_minor": 2
}
