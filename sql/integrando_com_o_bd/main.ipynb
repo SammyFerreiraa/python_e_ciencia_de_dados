{
 "cells": [
  {
   "cell_type": "code",
   "execution_count": 25,
   "metadata": {},
   "outputs": [],
   "source": [
    "# Importar as bibliotecas necessárias\n",
    "\n",
    "import os\n",
    "from dotenv import load_dotenv\n",
    "import pandas as pd\n",
    "import psycopg2\n",
    "from sqlalchemy import create_engine\n",
    "import panel as pn"
   ]
  },
  {
   "cell_type": "code",
   "execution_count": null,
   "metadata": {},
   "outputs": [],
   "source": [
    "# Carregar as variáveis de ambiente do arquivo .env\n",
    "\n",
    "load_dotenv()"
   ]
  },
  {
   "cell_type": "code",
   "execution_count": 27,
   "metadata": {},
   "outputs": [],
   "source": [
    "# Pegar os valores das variáveis de ambiente\n",
    "\n",
    "db_name = os.getenv('DB_NAME')\n",
    "db_user = os.getenv('DB_USER')\n",
    "db_password = os.getenv('DB_PASSWORD')\n",
    "db_host = os.getenv('DB_HOST')\n",
    "db_port = os.getenv('DB_PORT')\n",
    "\n",
    "DATABASE_URL = os.getenv('DATABASE_URL')"
   ]
  },
  {
   "cell_type": "code",
   "execution_count": null,
   "metadata": {},
   "outputs": [],
   "source": [
    "# Conectar ao banco de dados PostgreSQL\n",
    "\n",
    "try:\n",
    "    # Estabelecendo conexão com o driver\n",
    "\n",
    "    conn = psycopg2.connect(\n",
    "        dbname=db_name,\n",
    "        user=db_user,\n",
    "        password=db_password,\n",
    "        host=db_host,\n",
    "        port=db_port\n",
    "    )\n",
    "\n",
    "    # Estabelecendo conexão com o SQLAlchemy\n",
    "\n",
    "    engine = create_engine(DATABASE_URL)\n",
    "\n",
    "    print(\"Conexão estabelecida com sucesso!\")\n",
    "    \n",
    "except Exception as e:\n",
    "    print(f\"Erro ao conectar ao banco de dados: {e}\")"
   ]
  },
  {
   "cell_type": "code",
   "execution_count": null,
   "metadata": {},
   "outputs": [],
   "source": [
    "pn.extension()\n",
    "pn.extension('tabulator')\n",
    "pn.extension(notifications=True)"
   ]
  },
  {
   "cell_type": "code",
   "execution_count": null,
   "metadata": {},
   "outputs": [],
   "source": [
    "flag = \"\"\n",
    "\n",
    "game_name = pn.widgets.TextInput(\n",
    "    name=\"Nome do Jogo\",\n",
    "    value=\"\",\n",
    "    placeholder=\"Digite o nome do jogo\",\n",
    "    disabled=False\n",
    ")\n",
    "\n",
    "buttonSelect = pn.widgets.Button(name=\"Consultar\", button_type=\"default\")\n",
    "buttonInsert = pn.widgets.Button(name=\"Inserir\", button_type=\"default\")\n",
    "buttonDelete = pn.widgets.Button(name=\"Excluir\", button_type=\"default\")"
   ]
  },
  {
   "cell_type": "code",
   "execution_count": null,
   "metadata": {},
   "outputs": [],
   "source": [
    "# Funções para manipular o banco de dados\n",
    "def select_game(event):\n",
    "    game_name = game_name.value\n",
    "    query = f\"SELECT * FROM games WHERE ('{game_name.value_input}'='{flag} or name = '{game_name.value_input}')\"\n",
    "    try:\n",
    "        df = pd.read_sql(query, con=engine)\n",
    "        pn.state.notifications.success(\"Consulta realizada com sucesso!\")\n",
    "        return df\n",
    "    except Exception as e:\n",
    "        pn.state.notifications.error(f\"Erro ao consultar: {e}\")\n",
    "\n",
    "def insert_game(event):\n",
    "    game_name = game_name.value\n",
    "    try:\n",
    "        query = f\"INSERT INTO games (name) VALUES ('{game_name}')\"\n",
    "        with engine.connect() as connection:\n",
    "            connection.execute(query)\n",
    "        pn.state.notifications.success(f\"Jogo '{game_name}' inserido com sucesso!\")\n",
    "    except Exception as e:\n",
    "        pn.state.notifications.error(f\"Erro ao inserir: {e}\")\n",
    "\n",
    "def delete_game(event):\n",
    "    game_name = game_name.value\n",
    "    try:\n",
    "        query = f\"DELETE FROM games WHERE name = '{game_name}'\"\n",
    "        with engine.connect() as connection:\n",
    "            connection.execute(query)\n",
    "        pn.state.notifications.success(f\"Jogo '{game_name}' excluído com sucesso!\")\n",
    "    except Exception as e:\n",
    "        pn.state.notifications.error(f\"Erro ao excluir: {e}\")\n",
    "\n",
    "# Associar funções aos botões\n",
    "buttonSelect.on_click(select_game)\n",
    "buttonInsert.on_click(insert_game)\n",
    "buttonDelete.on_click(delete_game)"
   ]
  },
  {
   "cell_type": "code",
   "execution_count": null,
   "metadata": {},
   "outputs": [],
   "source": [
    "layout = pn.Column(\n",
    "    game_name,\n",
    "    pn.Row(buttonSelect, buttonInsert, buttonDelete)\n",
    ")\n",
    "\n",
    "pn.serve(layout)"
   ]
  },
  {
   "cell_type": "code",
   "execution_count": null,
   "metadata": {},
   "outputs": [],
   "source": []
  }
 ],
 "metadata": {
  "kernelspec": {
   "display_name": "base",
   "language": "python",
   "name": "python3"
  },
  "language_info": {
   "codemirror_mode": {
    "name": "ipython",
    "version": 3
   },
   "file_extension": ".py",
   "mimetype": "text/x-python",
   "name": "python",
   "nbconvert_exporter": "python",
   "pygments_lexer": "ipython3",
   "version": "3.12.1"
  }
 },
 "nbformat": 4,
 "nbformat_minor": 2
}
